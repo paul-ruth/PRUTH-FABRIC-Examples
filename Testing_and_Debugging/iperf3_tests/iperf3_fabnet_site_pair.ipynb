{
 "cells": [
  {
   "cell_type": "markdown",
   "metadata": {},
   "source": [
    "# FABRIC Experiment\n",
    "\n",
    "FABRIC provides a pair of layer 3 IP networking services across every FABRIC site (FABnetv4 and FABnetv6). You can think of this service as a private internet that connects experiments across the testbed using FABRIC's high-performance network links. \n",
    "\n",
    "This notebook describes how to use the FABnetv4 service which is FABRIC's private IPv4 internet.   \n"
   ]
  },
  {
   "cell_type": "code",
   "execution_count": null,
   "metadata": {},
   "outputs": [],
   "source": [
    "import os\n",
    "import sys\n",
    "import time\n",
    "from datetime import datetime\n",
    "from dateutil import tz\n",
    "\n",
    "\n",
    "module_path = os.path.abspath(os.path.join(f\"{os.environ['HOME']}/work/PRUTH-FABRIC-Examples/fablib_local\"))\n",
    "if module_path not in sys.path:\n",
    "    sys.path.append(module_path)\n",
    "from fablib_custom.fablib_custom import *\n",
    "\n",
    "from my_experiment.iperf3_fabnet_site_pair import MyExperiment\n",
    "\n",
    "#fablib = fablib_manager(output_type='HTML')"
   ]
  },
  {
   "cell_type": "code",
   "execution_count": null,
   "metadata": {},
   "outputs": [],
   "source": [
    "#run_name=f'iperf3_test_{time_stamp}'\n",
    "#print(f\"run_name: {run_name}\")\n",
    "#sites=['MICH','NCSA', 'DALL','TACC','UTAH','SALT','STAR','WASH','MASS','MAX']\n",
    "#sites=['MICH', 'DALL','TACC','UTAH','SALT','STAR','WASH','MASS','MAX']\n",
    "sites=['UTAH','DALL']\n",
    "\n",
    "my_experiment = MyExperiment('iperf3_test',\n",
    "                             output_type='HTML',\n",
    "                             sites=sites,\n",
    "                             node_cores=16, \n",
    "                             node_ram=64, \n",
    "                             node_disk=100, \n",
    "                             nic_type='NIC_Basic',\n",
    "                             node_tools_dir=f\"{os.environ['HOME']}/work/PRUTH-FABRIC-Examples/fabric_node_tools\")\n",
    "\n"
   ]
  },
  {
   "cell_type": "code",
   "execution_count": null,
   "metadata": {},
   "outputs": [],
   "source": [
    "my_experiment.deploy()\n",
    "#my_experiment.load(run_name)"
   ]
  },
  {
   "cell_type": "code",
   "execution_count": null,
   "metadata": {},
   "outputs": [],
   "source": [
    "my_experiment.configure()"
   ]
  },
  {
   "cell_type": "code",
   "execution_count": null,
   "metadata": {},
   "outputs": [],
   "source": [
    "from IPython.display import clear_output\n",
    "from concurrent.futures import ThreadPoolExecutor\n",
    "\n",
    "thread_pool_executor = ThreadPoolExecutor(1)\n",
    "    \n",
    "\n",
    "runs = [ \n",
    "        ('UTAH','DALL'), ('DALL','UTAH'),   \n",
    "        #('SALT','UTAH'), ('UTAH','SALT'),\n",
    "        #('SALT','STAR'), ('STAR','SALT'),\n",
    "        #('SALT','DALL'), ('DALL','SALT'),   \n",
    "        #('DALL','STAR'), ('STAR','DALL'),\n",
    "        #('WASH','STAR'), ('STAR','WASH'),\n",
    "        #('WASH','DALL'), ('DALL','WASH'),\n",
    "        #('NCSA','STAR'), ('STAR','NCSA'),\n",
    "        #('MICH','STAR'), ('STAR','MICH'),\n",
    "        ]\n",
    "    \n",
    "threads = {}\n",
    "for run in runs:\n",
    "    threads[run] = thread_pool_executor.submit(my_experiment.run,runs=[run], \n",
    "                 O=10, w='32M', P=8, t=20, i=10) \n",
    "   \n",
    " \n",
    "while len(threads) > 0:\n",
    "    for run,thread in threads.items():\n",
    "        if thread.done():\n",
    "            del threads[run]\n",
    "            clear_output(wait=True)\n",
    "            my_experiment.results()\n",
    "            break\n",
    "    time.sleep(10)\n",
    "print(f\"done!\")\n",
    "#my_experiment.run(run_name=f'run1', runs=runs, \n",
    "#                  O=10, w='32M', P=8, t=70, i=10)\n",
    "clear_output(wait=True)\n",
    "my_experiment.results()"
   ]
  },
  {
   "cell_type": "code",
   "execution_count": null,
   "metadata": {},
   "outputs": [],
   "source": [
    "my_experiment.clean_up()"
   ]
  },
  {
   "cell_type": "code",
   "execution_count": null,
   "metadata": {},
   "outputs": [],
   "source": []
  },
  {
   "cell_type": "code",
   "execution_count": null,
   "metadata": {},
   "outputs": [],
   "source": []
  }
 ],
 "metadata": {
  "kernelspec": {
   "display_name": "Python 3 (ipykernel)",
   "language": "python",
   "name": "python3"
  },
  "language_info": {
   "codemirror_mode": {
    "name": "ipython",
    "version": 3
   },
   "file_extension": ".py",
   "mimetype": "text/x-python",
   "name": "python",
   "nbconvert_exporter": "python",
   "pygments_lexer": "ipython3",
   "version": "3.9.7"
  }
 },
 "nbformat": 4,
 "nbformat_minor": 4
}
