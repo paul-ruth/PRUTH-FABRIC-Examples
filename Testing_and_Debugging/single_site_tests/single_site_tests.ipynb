{
 "cells": [
  {
   "cell_type": "markdown",
   "metadata": {},
   "source": [
    "# FABRIC Experiment\n",
    "\n",
    "FABRIC provides a pair of layer 3 IP networking services across every FABRIC site (FABnetv4 and FABnetv6). You can think of this service as a private internet that connects experiments across the testbed using FABRIC's high-performance network links. \n",
    "\n",
    "This notebook describes how to use the FABnetv4 service which is FABRIC's private IPv4 internet.   \n"
   ]
  },
  {
   "cell_type": "code",
   "execution_count": null,
   "metadata": {},
   "outputs": [],
   "source": [
    "import os\n",
    "import sys\n",
    "import time\n",
    "from datetime import datetime\n",
    "from dateutil import tz\n",
    "\n",
    "\n",
    "module_path = os.path.abspath(os.path.join(f\"{os.environ['HOME']}/work/PRUTH-FABRIC-Examples/fablib_local\"))\n",
    "if module_path not in sys.path:\n",
    "    sys.path.append(module_path)\n",
    "from fablib_custom.fablib_custom import *\n",
    "\n",
    "from my_experiment.single_site_acceptence_tests import MyExperiment\n",
    "\n",
    "#fablib = fablib_manager(output_type='HTML')"
   ]
  },
  {
   "cell_type": "code",
   "execution_count": null,
   "metadata": {},
   "outputs": [],
   "source": [
    "\n",
    "my_experiment = MyExperiment('single_sites_tests',\n",
    "                             output_type='HTML',\n",
    "                             node_tools=f\"{os.environ['HOME']}/work/PRUTH-FABRIC-Examples/fabric_node_tools\")\n",
    "\n",
    "my_experiment.list_resources()"
   ]
  },
  {
   "cell_type": "markdown",
   "metadata": {},
   "source": [
    "## Test1:  Start many VMs at one site (optionally on all hosts)"
   ]
  },
  {
   "cell_type": "code",
   "execution_count": null,
   "metadata": {},
   "outputs": [],
   "source": [
    "site='STAR'\n",
    "name=f'{site}'\n",
    "\n",
    "#time_stamp = datetime.now(tz=tz.tzutc()).strftime('%Y%m%d%H%M')\n",
    "\n",
    "#run_name=f'test1_{site}_{time_stamp}'\n",
    "run_name=name\n",
    "print(f\"run_name: {run_name}\")\n",
    "    \n",
    "\n",
    "# Choose all sites\n",
    "hosts = []\n",
    "host_count = int(my_experiment.fablib.get_resources().get_cpu_capacity(site)/2)\n",
    "for h in range(0, host_count):\n",
    "    hosts.append(f\"{site.lower()}-w{h+1}.fabric-testbed.net\") \n",
    "\n",
    "#Choose a specfic host\n",
    "#hosts=[f\"{site.lower()}-w1.fabric-testbed.net\"]\n",
    "\n",
    "# Do not secify hosts\n",
    "hosts=None\n",
    "\n",
    "\n",
    "print(f\"hosts: {hosts}\")\n",
    "try:\n",
    "\n",
    "    slice = my_experiment.test1_create_simple_nodes(name=run_name, \n",
    "                                                    site=site, \n",
    "                                                    hosts=hosts, \n",
    "                                                    count=2,\n",
    "                                                    cores=2,\n",
    "                                                    ram=8,\n",
    "                                                    disk=10,\n",
    "                                                    image='default_ubuntu_20')\n",
    "    \n",
    "except Exception as e:\n",
    "    print(f\"Exception: {e}\")\n",
    "    raise e\n",
    "    \n",
    "my_experiment.clean_up()"
   ]
  },
  {
   "cell_type": "markdown",
   "metadata": {},
   "source": [
    "## Test2:  Start many VMs at one site with an L2Bridge (optionally on all hosts)"
   ]
  },
  {
   "cell_type": "code",
   "execution_count": null,
   "metadata": {},
   "outputs": [],
   "source": [
    "site='STAR'\n",
    "name=f'{site}_test2'\n",
    "\n",
    "# Choose all sites\n",
    "hosts = []\n",
    "host_count = int(my_experiment.fablib.get_resources().get_cpu_capacity(site)/2)\n",
    "for h in range(0, host_count):\n",
    "    hosts.append(f\"{site.lower()}-w{h+1}.fabric-testbed.net\") \n",
    "\n",
    "#Choose a specfic host\n",
    "#hosts=[f\"{site.lower()}-w3.fabric-testbed.net\"]\n",
    "\n",
    "# Do not secify hosts\n",
    "#hosts=None\n",
    "\n",
    "print(f\"hosts: {hosts}\")\n",
    "# NIC_Basic,  NIC_ConnectX_5,  NIC_ConnectX_6\n",
    "try:\n",
    "    slice = my_experiment.test2_create_nodes_L2bridge(name=name, \n",
    "                                                    site=site, \n",
    "                                                    hosts=hosts, \n",
    "                                                    count=4, \n",
    "                                                    nic='NIC_Basic',\n",
    "                                                    #nic='NIC_ConnectX_5', \n",
    "                                                    #nic='NIC_ConnectX_6',  \n",
    "                                                    iface_num=0,\n",
    "                                                    cores=2,\n",
    "                                                    ram=8,\n",
    "                                                    disk=10,\n",
    "                                                    image='default_ubuntu_20') \n",
    "\n",
    "except Exception as e:\n",
    "    print(f\"Exception: {e}\")\n",
    "    \n",
    "my_experiment.clean_up()"
   ]
  },
  {
   "cell_type": "markdown",
   "metadata": {},
   "source": [
    "## Test3:  Start many VMs at one site with an arbitrary components (optionally on all hosts)"
   ]
  },
  {
   "cell_type": "code",
   "execution_count": null,
   "metadata": {},
   "outputs": [],
   "source": [
    "site='UTAH'\n",
    "name=f'{site}_test3'\n",
    "\n",
    "count=1\n",
    "\n",
    "# Choose all sites\n",
    "hosts = []\n",
    "host_count = int(my_experiment.fablib.get_resources().get_cpu_capacity(site)/2)\n",
    "for h in range(0, host_count):\n",
    "    hosts.append(f\"{site.lower()}-w{h+1}.fabric-testbed.net\") \n",
    "\n",
    "#Choose a specfic host\n",
    "#hosts=[f\"{site.lower()}-w3.fabric-testbed.net\"]\n",
    "\n",
    "# Do not sepcify hosts\n",
    "hosts=None\n",
    "\n",
    "\n",
    "\n",
    "print(f\"hosts: {hosts}\")\n",
    "\n",
    "#'SharedNIC-ConnectX-5'\n",
    "#'SharedNIC-ConnectX-6'\n",
    "#'NVME-P4510'                       \n",
    "#'GPU-Tesla T4'                            \n",
    "#'GPU-RTX6000'                        \n",
    "# NIC_Basic,  NIC_ConnectX_5,  NIC_ConnectX_6,  NVME_P4510,  GPU_TeslaT4,  GPU_RTX6000\n",
    "components=['NVME_P4510']\n",
    "count=my_experiment.fablib.get_resources().get_component_available(site, 'NVME-P4510') #components[0])\n",
    "print(f\"count: {count}\")\n",
    "\n",
    "try:\n",
    "    slice = my_experiment.test3_create_nodes_with_components(name=name, \n",
    "                                                    site=site, \n",
    "                                                    hosts=hosts, \n",
    "                                                    count=count, \n",
    "                                                    cores=2,\n",
    "                                                    ram=8,\n",
    "                                                    disk=10,\n",
    "                                                    components=components,\n",
    "                                                    image='default_ubuntu_20')  \n",
    "    \n",
    "except Exception as e:\n",
    "    print(f\"Exception: {e}\")\n",
    "    #raise e\n",
    "    \n",
    "my_experiment.clean_up()"
   ]
  },
  {
   "cell_type": "code",
   "execution_count": null,
   "metadata": {},
   "outputs": [],
   "source": [
    "my_experiment.clean_up()"
   ]
  },
  {
   "cell_type": "code",
   "execution_count": null,
   "metadata": {},
   "outputs": [],
   "source": []
  },
  {
   "cell_type": "code",
   "execution_count": null,
   "metadata": {},
   "outputs": [],
   "source": []
  }
 ],
 "metadata": {
  "kernelspec": {
   "display_name": "Python 3 (ipykernel)",
   "language": "python",
   "name": "python3"
  },
  "language_info": {
   "codemirror_mode": {
    "name": "ipython",
    "version": 3
   },
   "file_extension": ".py",
   "mimetype": "text/x-python",
   "name": "python",
   "nbconvert_exporter": "python",
   "pygments_lexer": "ipython3",
   "version": "3.9.7"
  }
 },
 "nbformat": 4,
 "nbformat_minor": 4
}
