{
 "cells": [
  {
   "cell_type": "markdown",
   "metadata": {},
   "source": [
    "# FABRIC Experiment\n",
    "\n",
    "FABRIC provides a pair of layer 3 IP networking services across every FABRIC site (FABnetv4 and FABnetv6). You can think of this service as a private internet that connects experiments across the testbed using FABRIC's high-performance network links. \n",
    "\n",
    "This notebook describes how to use the FABnetv4 service which is FABRIC's private IPv4 internet.   \n"
   ]
  },
  {
   "cell_type": "code",
   "execution_count": 1,
   "metadata": {},
   "outputs": [],
   "source": [
    "import os\n",
    "import sys\n",
    "import time\n",
    "from datetime import datetime\n",
    "from dateutil import tz\n",
    "\n",
    "\n",
    "module_path = os.path.abspath(os.path.join(f\"{os.environ['HOME']}/work/PRUTH-FABRIC-Examples/fablib_local\"))\n",
    "if module_path not in sys.path:\n",
    "    sys.path.append(module_path)\n",
    "from fablib_custom.fablib_custom import *\n",
    "\n",
    "from my_experiment.single_site_acceptence_tests import MyExperiment\n",
    "\n",
    "#fablib = fablib_manager(output_type='HTML')"
   ]
  },
  {
   "cell_type": "code",
   "execution_count": 2,
   "metadata": {},
   "outputs": [
    {
     "ename": "ImportError",
     "evalue": "Pandas requires version '3.0.0' or newer of 'jinja2' (version '2.11.3' currently installed).",
     "output_type": "error",
     "traceback": [
      "\u001b[0;31m---------------------------------------------------------------------------\u001b[0m",
      "\u001b[0;31mImportError\u001b[0m                               Traceback (most recent call last)",
      "\u001b[0;32m/tmp/ipykernel_454/2297789975.py\u001b[0m in \u001b[0;36m<module>\u001b[0;34m\u001b[0m\n\u001b[1;32m      3\u001b[0m                              node_tools=f\"{os.environ['HOME']}/work/PRUTH-FABRIC-Examples/fabric_node_tools\")\n\u001b[1;32m      4\u001b[0m \u001b[0;34m\u001b[0m\u001b[0m\n\u001b[0;32m----> 5\u001b[0;31m \u001b[0mmy_experiment\u001b[0m\u001b[0;34m.\u001b[0m\u001b[0mlist_resources\u001b[0m\u001b[0;34m(\u001b[0m\u001b[0;34m)\u001b[0m\u001b[0;34m\u001b[0m\u001b[0;34m\u001b[0m\u001b[0m\n\u001b[0m",
      "\u001b[0;32m~/work/PRUTH-FABRIC-Examples/Testing_and_Debugging/single_site_tests/my_experiment/single_site_acceptence_tests.py\u001b[0m in \u001b[0;36mlist_resources\u001b[0;34m(self)\u001b[0m\n\u001b[1;32m     59\u001b[0m \u001b[0;34m\u001b[0m\u001b[0m\n\u001b[1;32m     60\u001b[0m     \u001b[0;32mdef\u001b[0m \u001b[0mlist_resources\u001b[0m\u001b[0;34m(\u001b[0m\u001b[0mself\u001b[0m\u001b[0;34m)\u001b[0m\u001b[0;34m:\u001b[0m\u001b[0;34m\u001b[0m\u001b[0;34m\u001b[0m\u001b[0m\n\u001b[0;32m---> 61\u001b[0;31m         \u001b[0mself\u001b[0m\u001b[0;34m.\u001b[0m\u001b[0mfablib\u001b[0m\u001b[0;34m.\u001b[0m\u001b[0mget_resources\u001b[0m\u001b[0;34m(\u001b[0m\u001b[0;34m)\u001b[0m\u001b[0;34m.\u001b[0m\u001b[0mlist\u001b[0m\u001b[0;34m(\u001b[0m\u001b[0;34m)\u001b[0m\u001b[0;34m\u001b[0m\u001b[0;34m\u001b[0m\u001b[0m\n\u001b[0m\u001b[1;32m     62\u001b[0m \u001b[0;34m\u001b[0m\u001b[0m\n\u001b[1;32m     63\u001b[0m     def test1_create_simple_nodes(self, \n",
      "\u001b[0;32m~/work/PRUTH-FABRIC-Examples/fablib_local/fablib_custom/resources.py\u001b[0m in \u001b[0;36mlist\u001b[0;34m(self)\u001b[0m\n\u001b[1;32m     58\u001b[0m                 ]\n\u001b[1;32m     59\u001b[0m \u001b[0;34m\u001b[0m\u001b[0m\n\u001b[0;32m---> 60\u001b[0;31m         \u001b[0mself\u001b[0m\u001b[0;34m.\u001b[0m\u001b[0mget_fablib_manager\u001b[0m\u001b[0;34m(\u001b[0m\u001b[0;34m)\u001b[0m\u001b[0;34m.\u001b[0m\u001b[0mprint_table\u001b[0m\u001b[0;34m(\u001b[0m\u001b[0mtable\u001b[0m\u001b[0;34m,\u001b[0m \u001b[0mtitle\u001b[0m\u001b[0;34m=\u001b[0m\u001b[0;34mf'Current Available Resources'\u001b[0m\u001b[0;34m,\u001b[0m \u001b[0mproperties\u001b[0m\u001b[0;34m=\u001b[0m\u001b[0;34m{\u001b[0m\u001b[0;34m'text-align'\u001b[0m\u001b[0;34m:\u001b[0m \u001b[0;34m'left'\u001b[0m\u001b[0;34m}\u001b[0m\u001b[0;34m,\u001b[0m \u001b[0mheaders\u001b[0m\u001b[0;34m=\u001b[0m\u001b[0mheaders\u001b[0m\u001b[0;34m,\u001b[0m \u001b[0mindex\u001b[0m\u001b[0;34m=\u001b[0m\u001b[0;34m'Name'\u001b[0m\u001b[0;34m)\u001b[0m\u001b[0;34m\u001b[0m\u001b[0;34m\u001b[0m\u001b[0m\n\u001b[0m\u001b[1;32m     61\u001b[0m \u001b[0;34m\u001b[0m\u001b[0m\n\u001b[1;32m     62\u001b[0m     \u001b[0;31m# #################################################\u001b[0m\u001b[0;34m\u001b[0m\u001b[0;34m\u001b[0m\u001b[0m\n",
      "\u001b[0;32m~/work/PRUTH-FABRIC-Examples/fablib_local/fablib_custom/fablib.py\u001b[0m in \u001b[0;36mprint_table\u001b[0;34m(self, table, headers, title, properties, hide_header, title_font_size, index)\u001b[0m\n\u001b[1;32m     29\u001b[0m \u001b[0;34m\u001b[0m\u001b[0m\n\u001b[1;32m     30\u001b[0m         \u001b[0;32melif\u001b[0m\u001b[0;34m(\u001b[0m\u001b[0mself\u001b[0m\u001b[0;34m.\u001b[0m\u001b[0moutput_type\u001b[0m\u001b[0;34m.\u001b[0m\u001b[0mlower\u001b[0m\u001b[0;34m(\u001b[0m\u001b[0;34m)\u001b[0m \u001b[0;34m==\u001b[0m \u001b[0;34m'html'\u001b[0m\u001b[0;34m)\u001b[0m\u001b[0;34m:\u001b[0m\u001b[0;34m\u001b[0m\u001b[0;34m\u001b[0m\u001b[0m\n\u001b[0;32m---> 31\u001b[0;31m             \u001b[0mdisplay\u001b[0m\u001b[0;34m(\u001b[0m\u001b[0mself\u001b[0m\u001b[0;34m.\u001b[0m\u001b[0mcreate_table\u001b[0m\u001b[0;34m(\u001b[0m\u001b[0mtable\u001b[0m\u001b[0;34m,\u001b[0m \u001b[0mheaders\u001b[0m\u001b[0;34m=\u001b[0m\u001b[0mheaders\u001b[0m\u001b[0;34m,\u001b[0m \u001b[0mtitle\u001b[0m\u001b[0;34m=\u001b[0m\u001b[0mtitle\u001b[0m\u001b[0;34m,\u001b[0m \u001b[0mproperties\u001b[0m\u001b[0;34m=\u001b[0m\u001b[0mproperties\u001b[0m\u001b[0;34m,\u001b[0m \u001b[0mhide_header\u001b[0m\u001b[0;34m=\u001b[0m\u001b[0mhide_header\u001b[0m\u001b[0;34m,\u001b[0m \u001b[0mtitle_font_size\u001b[0m\u001b[0;34m=\u001b[0m\u001b[0mtitle_font_size\u001b[0m\u001b[0;34m,\u001b[0m\u001b[0mindex\u001b[0m\u001b[0;34m=\u001b[0m\u001b[0mindex\u001b[0m\u001b[0;34m)\u001b[0m\u001b[0;34m)\u001b[0m\u001b[0;34m\u001b[0m\u001b[0;34m\u001b[0m\u001b[0m\n\u001b[0m\u001b[1;32m     32\u001b[0m \u001b[0;34m\u001b[0m\u001b[0m\n\u001b[1;32m     33\u001b[0m \u001b[0;34m\u001b[0m\u001b[0m\n",
      "\u001b[0;32m~/work/PRUTH-FABRIC-Examples/fablib_local/fablib_custom/fablib.py\u001b[0m in \u001b[0;36mcreate_table\u001b[0;34m(self, table, headers, title, properties, hide_header, title_font_size, index)\u001b[0m\n\u001b[1;32m     57\u001b[0m                 }], overwrite=False)\n\u001b[1;32m     58\u001b[0m             \u001b[0;32melse\u001b[0m\u001b[0;34m:\u001b[0m\u001b[0;34m\u001b[0m\u001b[0;34m\u001b[0m\u001b[0m\n\u001b[0;32m---> 59\u001b[0;31m                 style = df.style.set_caption(title).set_properties(**properties).set_table_styles([{\n\u001b[0m\u001b[1;32m     60\u001b[0m                         \u001b[0;34m'selector'\u001b[0m\u001b[0;34m:\u001b[0m \u001b[0;34m'caption'\u001b[0m\u001b[0;34m,\u001b[0m\u001b[0;34m\u001b[0m\u001b[0;34m\u001b[0m\u001b[0m\n\u001b[1;32m     61\u001b[0m                         \u001b[0;34m'props'\u001b[0m\u001b[0;34m:\u001b[0m \u001b[0;34mf'caption-side: top; font-size:{title_font_size};'\u001b[0m\u001b[0;34m\u001b[0m\u001b[0;34m\u001b[0m\u001b[0m\n",
      "\u001b[0;32m/opt/conda/lib/python3.9/site-packages/pandas/core/frame.py\u001b[0m in \u001b[0;36mstyle\u001b[0;34m(self)\u001b[0m\n\u001b[1;32m   1262\u001b[0m             \u001b[0mdata\u001b[0m \u001b[0;32mwith\u001b[0m \u001b[0mHTML\u001b[0m \u001b[0;32mand\u001b[0m \u001b[0mCSS\u001b[0m\u001b[0;34m.\u001b[0m\u001b[0;34m\u001b[0m\u001b[0;34m\u001b[0m\u001b[0m\n\u001b[1;32m   1263\u001b[0m         \"\"\"\n\u001b[0;32m-> 1264\u001b[0;31m         \u001b[0;32mfrom\u001b[0m \u001b[0mpandas\u001b[0m\u001b[0;34m.\u001b[0m\u001b[0mio\u001b[0m\u001b[0;34m.\u001b[0m\u001b[0mformats\u001b[0m\u001b[0;34m.\u001b[0m\u001b[0mstyle\u001b[0m \u001b[0;32mimport\u001b[0m \u001b[0mStyler\u001b[0m\u001b[0;34m\u001b[0m\u001b[0;34m\u001b[0m\u001b[0m\n\u001b[0m\u001b[1;32m   1265\u001b[0m \u001b[0;34m\u001b[0m\u001b[0m\n\u001b[1;32m   1266\u001b[0m         \u001b[0;32mreturn\u001b[0m \u001b[0mStyler\u001b[0m\u001b[0;34m(\u001b[0m\u001b[0mself\u001b[0m\u001b[0;34m)\u001b[0m\u001b[0;34m\u001b[0m\u001b[0;34m\u001b[0m\u001b[0m\n",
      "\u001b[0;32m/opt/conda/lib/python3.9/site-packages/pandas/io/formats/style.py\u001b[0m in \u001b[0;36m<module>\u001b[0;34m\u001b[0m\n\u001b[1;32m     55\u001b[0m \u001b[0;32mfrom\u001b[0m \u001b[0mpandas\u001b[0m\u001b[0;34m.\u001b[0m\u001b[0mio\u001b[0m\u001b[0;34m.\u001b[0m\u001b[0mformats\u001b[0m\u001b[0;34m.\u001b[0m\u001b[0mformat\u001b[0m \u001b[0;32mimport\u001b[0m \u001b[0msave_to_buffer\u001b[0m\u001b[0;34m\u001b[0m\u001b[0;34m\u001b[0m\u001b[0m\n\u001b[1;32m     56\u001b[0m \u001b[0;34m\u001b[0m\u001b[0m\n\u001b[0;32m---> 57\u001b[0;31m \u001b[0mjinja2\u001b[0m \u001b[0;34m=\u001b[0m \u001b[0mimport_optional_dependency\u001b[0m\u001b[0;34m(\u001b[0m\u001b[0;34m\"jinja2\"\u001b[0m\u001b[0;34m,\u001b[0m \u001b[0mextra\u001b[0m\u001b[0;34m=\u001b[0m\u001b[0;34m\"DataFrame.style requires jinja2.\"\u001b[0m\u001b[0;34m)\u001b[0m\u001b[0;34m\u001b[0m\u001b[0;34m\u001b[0m\u001b[0m\n\u001b[0m\u001b[1;32m     58\u001b[0m \u001b[0;34m\u001b[0m\u001b[0m\n\u001b[1;32m     59\u001b[0m from pandas.io.formats.style_render import (\n",
      "\u001b[0;32m/opt/conda/lib/python3.9/site-packages/pandas/compat/_optional.py\u001b[0m in \u001b[0;36mimport_optional_dependency\u001b[0;34m(name, extra, errors, min_version)\u001b[0m\n\u001b[1;32m    170\u001b[0m                 \u001b[0;32mreturn\u001b[0m \u001b[0;32mNone\u001b[0m\u001b[0;34m\u001b[0m\u001b[0;34m\u001b[0m\u001b[0m\n\u001b[1;32m    171\u001b[0m             \u001b[0;32melif\u001b[0m \u001b[0merrors\u001b[0m \u001b[0;34m==\u001b[0m \u001b[0;34m\"raise\"\u001b[0m\u001b[0;34m:\u001b[0m\u001b[0;34m\u001b[0m\u001b[0;34m\u001b[0m\u001b[0m\n\u001b[0;32m--> 172\u001b[0;31m                 \u001b[0;32mraise\u001b[0m \u001b[0mImportError\u001b[0m\u001b[0;34m(\u001b[0m\u001b[0mmsg\u001b[0m\u001b[0;34m)\u001b[0m\u001b[0;34m\u001b[0m\u001b[0;34m\u001b[0m\u001b[0m\n\u001b[0m\u001b[1;32m    173\u001b[0m \u001b[0;34m\u001b[0m\u001b[0m\n\u001b[1;32m    174\u001b[0m     \u001b[0;32mreturn\u001b[0m \u001b[0mmodule\u001b[0m\u001b[0;34m\u001b[0m\u001b[0;34m\u001b[0m\u001b[0m\n",
      "\u001b[0;31mImportError\u001b[0m: Pandas requires version '3.0.0' or newer of 'jinja2' (version '2.11.3' currently installed)."
     ]
    }
   ],
   "source": [
    "\n",
    "my_experiment = MyExperiment('single_sites_tests',\n",
    "                             output_type='HTML',\n",
    "                             node_tools=f\"{os.environ['HOME']}/work/PRUTH-FABRIC-Examples/fabric_node_tools\")\n",
    "\n",
    "my_experiment.list_resources()"
   ]
  },
  {
   "cell_type": "markdown",
   "metadata": {},
   "source": [
    "## Test1:  Start many VMs at one site (optionally on all hosts)"
   ]
  },
  {
   "cell_type": "code",
   "execution_count": null,
   "metadata": {},
   "outputs": [],
   "source": [
    "site='STAR'\n",
    "name=f'{site}'\n",
    "\n",
    "#time_stamp = datetime.now(tz=tz.tzutc()).strftime('%Y%m%d%H%M')\n",
    "\n",
    "#run_name=f'test1_{site}_{time_stamp}'\n",
    "run_name=name\n",
    "print(f\"run_name: {run_name}\")\n",
    "    \n",
    "\n",
    "# Choose all sites\n",
    "hosts = []\n",
    "host_count = int(my_experiment.fablib.get_resources().get_cpu_capacity(site)/2)\n",
    "for h in range(0, host_count):\n",
    "    hosts.append(f\"{site.lower()}-w{h+1}.fabric-testbed.net\") \n",
    "\n",
    "#Choose a specfic host\n",
    "#hosts=[f\"{site.lower()}-w1.fabric-testbed.net\"]\n",
    "\n",
    "# Do not secify hosts\n",
    "hosts=None\n",
    "\n",
    "\n",
    "print(f\"hosts: {hosts}\")\n",
    "try:\n",
    "\n",
    "    slice = my_experiment.test1_create_simple_nodes(name=run_name, \n",
    "                                                    site=site, \n",
    "                                                    hosts=hosts, \n",
    "                                                    count=2,\n",
    "                                                    cores=2,\n",
    "                                                    ram=8,\n",
    "                                                    disk=10,\n",
    "                                                    image='default_ubuntu_20')\n",
    "    \n",
    "except Exception as e:\n",
    "    print(f\"Exception: {e}\")\n",
    "    raise e\n",
    "    \n",
    "my_experiment.clean_up()"
   ]
  },
  {
   "cell_type": "markdown",
   "metadata": {},
   "source": [
    "## Test2:  Start many VMs at one site with an L2Bridge (optionally on all hosts)"
   ]
  },
  {
   "cell_type": "code",
   "execution_count": null,
   "metadata": {},
   "outputs": [],
   "source": [
    "site='STAR'\n",
    "name=f'{site}_test2'\n",
    "\n",
    "# Choose all sites\n",
    "hosts = []\n",
    "host_count = int(my_experiment.fablib.get_resources().get_cpu_capacity(site)/2)\n",
    "for h in range(0, host_count):\n",
    "    hosts.append(f\"{site.lower()}-w{h+1}.fabric-testbed.net\") \n",
    "\n",
    "#Choose a specfic host\n",
    "#hosts=[f\"{site.lower()}-w3.fabric-testbed.net\"]\n",
    "\n",
    "# Do not secify hosts\n",
    "#hosts=None\n",
    "\n",
    "print(f\"hosts: {hosts}\")\n",
    "# NIC_Basic,  NIC_ConnectX_5,  NIC_ConnectX_6\n",
    "try:\n",
    "    slice = my_experiment.test2_create_nodes_L2bridge(name=name, \n",
    "                                                    site=site, \n",
    "                                                    hosts=hosts, \n",
    "                                                    count=4, \n",
    "                                                    nic='NIC_Basic',\n",
    "                                                    #nic='NIC_ConnectX_5', \n",
    "                                                    #nic='NIC_ConnectX_6',  \n",
    "                                                    iface_num=0,\n",
    "                                                    cores=2,\n",
    "                                                    ram=8,\n",
    "                                                    disk=10,\n",
    "                                                    image='default_ubuntu_20') \n",
    "\n",
    "except Exception as e:\n",
    "    print(f\"Exception: {e}\")\n",
    "    \n",
    "my_experiment.clean_up()"
   ]
  },
  {
   "cell_type": "markdown",
   "metadata": {},
   "source": [
    "## Test3:  Start many VMs at one site with an arbitrary components (optionally on all hosts)"
   ]
  },
  {
   "cell_type": "code",
   "execution_count": null,
   "metadata": {},
   "outputs": [],
   "source": [
    "site='UTAH'\n",
    "name=f'{site}_test3'\n",
    "\n",
    "count=1\n",
    "\n",
    "# Choose all sites\n",
    "hosts = []\n",
    "host_count = int(my_experiment.fablib.get_resources().get_cpu_capacity(site)/2)\n",
    "for h in range(0, host_count):\n",
    "    hosts.append(f\"{site.lower()}-w{h+1}.fabric-testbed.net\") \n",
    "\n",
    "#Choose a specfic host\n",
    "#hosts=[f\"{site.lower()}-w3.fabric-testbed.net\"]\n",
    "\n",
    "# Do not sepcify hosts\n",
    "hosts=None\n",
    "\n",
    "\n",
    "\n",
    "print(f\"hosts: {hosts}\")\n",
    "\n",
    "#'SharedNIC-ConnectX-5'\n",
    "#'SharedNIC-ConnectX-6'\n",
    "#'NVME-P4510'                       \n",
    "#'GPU-Tesla T4'                            \n",
    "#'GPU-RTX6000'                        \n",
    "# NIC_Basic,  NIC_ConnectX_5,  NIC_ConnectX_6,  NVME_P4510,  GPU_TeslaT4,  GPU_RTX6000\n",
    "components=['NVME_P4510']\n",
    "count=my_experiment.fablib.get_resources().get_component_available(site, 'NVME-P4510') #components[0])\n",
    "print(f\"count: {count}\")\n",
    "\n",
    "try:\n",
    "    slice = my_experiment.test3_create_nodes_with_components(name=name, \n",
    "                                                    site=site, \n",
    "                                                    hosts=hosts, \n",
    "                                                    count=count, \n",
    "                                                    cores=2,\n",
    "                                                    ram=8,\n",
    "                                                    disk=10,\n",
    "                                                    components=components,\n",
    "                                                    image='default_ubuntu_20')  \n",
    "    \n",
    "except Exception as e:\n",
    "    print(f\"Exception: {e}\")\n",
    "    #raise e\n",
    "    \n",
    "my_experiment.clean_up()"
   ]
  },
  {
   "cell_type": "code",
   "execution_count": null,
   "metadata": {},
   "outputs": [],
   "source": [
    "my_experiment.clean_up()"
   ]
  },
  {
   "cell_type": "code",
   "execution_count": null,
   "metadata": {},
   "outputs": [],
   "source": []
  },
  {
   "cell_type": "code",
   "execution_count": null,
   "metadata": {},
   "outputs": [],
   "source": []
  }
 ],
 "metadata": {
  "kernelspec": {
   "display_name": "Python 3 (ipykernel)",
   "language": "python",
   "name": "python3"
  },
  "language_info": {
   "codemirror_mode": {
    "name": "ipython",
    "version": 3
   },
   "file_extension": ".py",
   "mimetype": "text/x-python",
   "name": "python",
   "nbconvert_exporter": "python",
   "pygments_lexer": "ipython3",
   "version": "3.9.7"
  }
 },
 "nbformat": 4,
 "nbformat_minor": 4
}
