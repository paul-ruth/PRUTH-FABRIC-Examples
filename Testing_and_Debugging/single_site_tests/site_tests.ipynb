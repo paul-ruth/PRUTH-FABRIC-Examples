{
 "cells": [
  {
   "cell_type": "markdown",
   "metadata": {},
   "source": [
    "# Single Site Tests\n",
    "\n",
    "FABRIC provides a pair of layer 3 IP networking services across every FABRIC site (FABnetv4 and FABnetv6). You can think of this service as a private internet that connects experiments across the testbed using FABRIC's high-performance network links. \n",
    "\n",
    "This notebook describes how to use the FABnetv4 service which is FABRIC's private IPv4 internet.   \n"
   ]
  },
  {
   "cell_type": "markdown",
   "metadata": {},
   "source": [
    "## Import the FABlib Library\n"
   ]
  },
  {
   "cell_type": "code",
   "execution_count": 6,
   "metadata": {},
   "outputs": [],
   "source": [
    "import os\n",
    "import sys\n",
    "import time\n",
    "from datetime import datetime\n",
    "from dateutil import tz\n",
    "\n",
    "\n",
    "module_path = os.path.abspath(os.path.join(f\"{os.environ['HOME']}/work/PRUTH-FABRIC-Examples/fablib_local\"))\n",
    "if module_path not in sys.path:\n",
    "    sys.path.append(module_path)\n",
    "from fablib_custom.fablib_custom import *\n",
    "\n",
    "from my_experiment.single_site_acceptence_tests import MyExperiment\n",
    "\n",
    "#fablib = fablib_manager(output_type='HTML')"
   ]
  },
  {
   "cell_type": "code",
   "execution_count": 7,
   "metadata": {},
   "outputs": [],
   "source": [
    "my_experiment = MyExperiment('pruth',\n",
    "                             output_type='HTML',\n",
    "                             node_tools=f\"{os.environ['HOME']}/work/PRUTH-FABRIC-Examples/fabric_node_tools\")"
   ]
  },
  {
   "cell_type": "markdown",
   "metadata": {
    "tags": []
   },
   "source": [
    "## Test1: create_simple_nodes\n",
    "\n"
   ]
  },
  {
   "cell_type": "code",
   "execution_count": 8,
   "metadata": {
    "tags": []
   },
   "outputs": [
    {
     "name": "stdout",
     "output_type": "stream",
     "text": [
      "run_name: test1_STAR_202210071805\n",
      "Exception: name 'fablib' is not defined\n"
     ]
    },
    {
     "ename": "NameError",
     "evalue": "name 'fablib' is not defined",
     "output_type": "error",
     "traceback": [
      "\u001b[0;31m---------------------------------------------------------------------------\u001b[0m",
      "\u001b[0;31mNameError\u001b[0m                                 Traceback (most recent call last)",
      "\u001b[0;32m/tmp/ipykernel_3042/118784128.py\u001b[0m in \u001b[0;36m<module>\u001b[0;34m\u001b[0m\n\u001b[1;32m     32\u001b[0m \u001b[0;32mexcept\u001b[0m \u001b[0mException\u001b[0m \u001b[0;32mas\u001b[0m \u001b[0me\u001b[0m\u001b[0;34m:\u001b[0m\u001b[0;34m\u001b[0m\u001b[0;34m\u001b[0m\u001b[0m\n\u001b[1;32m     33\u001b[0m     \u001b[0mprint\u001b[0m\u001b[0;34m(\u001b[0m\u001b[0;34mf\"Exception: {e}\"\u001b[0m\u001b[0;34m)\u001b[0m\u001b[0;34m\u001b[0m\u001b[0;34m\u001b[0m\u001b[0m\n\u001b[0;32m---> 34\u001b[0;31m     \u001b[0;32mraise\u001b[0m \u001b[0me\u001b[0m\u001b[0;34m\u001b[0m\u001b[0;34m\u001b[0m\u001b[0m\n\u001b[0m",
      "\u001b[0;32m/tmp/ipykernel_3042/118784128.py\u001b[0m in \u001b[0;36m<module>\u001b[0;34m\u001b[0m\n\u001b[1;32m     12\u001b[0m \u001b[0;34m\u001b[0m\u001b[0m\n\u001b[1;32m     13\u001b[0m \u001b[0;34m\u001b[0m\u001b[0m\n\u001b[0;32m---> 14\u001b[0;31m     \u001b[0msite_host_count\u001b[0m\u001b[0;34m=\u001b[0m\u001b[0mint\u001b[0m\u001b[0;34m(\u001b[0m\u001b[0mfablib\u001b[0m\u001b[0;34m.\u001b[0m\u001b[0mget_resources\u001b[0m\u001b[0;34m(\u001b[0m\u001b[0;34m)\u001b[0m\u001b[0;34m.\u001b[0m\u001b[0mget_cpu_capacity\u001b[0m\u001b[0;34m(\u001b[0m\u001b[0msite\u001b[0m\u001b[0;34m)\u001b[0m\u001b[0;34m/\u001b[0m\u001b[0;36m2\u001b[0m\u001b[0;34m)\u001b[0m\u001b[0;34m\u001b[0m\u001b[0;34m\u001b[0m\u001b[0m\n\u001b[0m\u001b[1;32m     15\u001b[0m     \u001b[0msite_node_count\u001b[0m\u001b[0;34m=\u001b[0m\u001b[0;36m1\u001b[0m\u001b[0;34m\u001b[0m\u001b[0;34m\u001b[0m\u001b[0m\n\u001b[1;32m     16\u001b[0m \u001b[0;34m\u001b[0m\u001b[0m\n",
      "\u001b[0;31mNameError\u001b[0m: name 'fablib' is not defined"
     ]
    }
   ],
   "source": [
    "try:\n",
    "    \n",
    "    site = 'STAR'\n",
    "    \n",
    "    time_stamp = datetime.now(tz=tz.tzutc()).strftime('%Y%m%d%H%M')\n",
    "\n",
    "    run_name=f'test1_{site}_{time_stamp}'\n",
    "    print(f\"run_name: {run_name}\")\n",
    "    \n",
    "    #site = 'FIU'\n",
    "    #site_host_count=5\n",
    "    \n",
    "    \n",
    "    site_host_count=int(fablib.get_resources().get_cpu_capacity(site)/2)\n",
    "    site_node_count=1\n",
    "    \n",
    "    hosts = []\n",
    "    for i in range(site_host_count):\n",
    "        hosts.append(f'{site.lower()}-w{i+1}.fabric-testbed.net')\n",
    "    \n",
    "    print(f\"site: {site}\")\n",
    "    print(f\"site_host_count: {site_host_count}\")\n",
    "    print(f\"site_node_count: {site_node_count}\")\n",
    "    \n",
    "    site_tests = SiteTests()\n",
    "    slice = my_experiment.test1_create_simple_nodes(name=run_name,  site=site, count=site_node_count, hosts=hosts)\n",
    "    \n",
    "    #Test \n",
    "    site_tests.test_execute(slice=slice)\n",
    "\n",
    "    \n",
    "except Exception as e:\n",
    "    print(f\"Exception: {e}\")\n",
    "    raise e"
   ]
  },
  {
   "cell_type": "markdown",
   "metadata": {},
   "source": [
    "## Test2: Create Nodes w/ L2Bridge\n"
   ]
  },
  {
   "cell_type": "code",
   "execution_count": null,
   "metadata": {},
   "outputs": [],
   "source": [
    "try:\n",
    "    #site = 'FIU'\n",
    "    #site_host_count=5\n",
    "    \n",
    "    site = 'FIU'\n",
    "    site_host_count=int(fablib.get_resources().get_cpu_capacity(site)/2)\n",
    "    site_node_count=3\n",
    "    \n",
    "    hosts = []\n",
    "    for i in range(site_host_count):\n",
    "        hosts.append(f'{site.lower()}-w{i+1}.fabric-testbed.net')\n",
    "    \n",
    "    print(f\"site: {site}\")\n",
    "    print(f\"site_host_count: {site_host_count}\")\n",
    "    print(f\"site_node_count: {site_node_count}\")\n",
    "    \n",
    "    site_tests = SiteTests()\n",
    "    slice = site_tests.test2_create_nodes_L2bridge(name=f'testing_test2_create_nodes_L2bridge_{site}', site=site, hosts=hosts, count=site_node_count, nic='NIC_Basic')  \n",
    "    \n",
    "    #Test \n",
    "    site_tests.test_execute(slice=slice)\n",
    "\n",
    "    \n",
    "except Exception as e:\n",
    "    print(f\"Exception: {e}\")\n",
    "    raise e"
   ]
  },
  {
   "cell_type": "markdown",
   "metadata": {},
   "source": [
    "## Test3: Create Nodes w/ FABnet\n",
    "\n",
    "## Test4: NVMe\n",
    "\n",
    "## Test5: GPUs\n",
    "\n",
    "## Test6: Multi Component\n"
   ]
  },
  {
   "cell_type": "code",
   "execution_count": null,
   "metadata": {},
   "outputs": [],
   "source": [
    "try:\n",
    "    my_experiment.clean_up()\n",
    "    \n",
    "except Exception as e:\n",
    "    print(f\"Exception: {e}\")"
   ]
  },
  {
   "cell_type": "markdown",
   "metadata": {},
   "source": [
    "## Delete the Slice\n",
    "\n",
    "Please delete your slice when you are done with your experiment."
   ]
  },
  {
   "cell_type": "code",
   "execution_count": null,
   "metadata": {},
   "outputs": [],
   "source": [
    "try:\n",
    "    slice = fablib.get_slice(name=slice_name)\n",
    "    slice.delete()\n",
    "except Exception as e:\n",
    "    print(f\"Exception: {e}\")\n",
    "    "
   ]
  },
  {
   "cell_type": "code",
   "execution_count": null,
   "metadata": {},
   "outputs": [],
   "source": []
  }
 ],
 "metadata": {
  "kernelspec": {
   "display_name": "Python 3 (ipykernel)",
   "language": "python",
   "name": "python3"
  },
  "language_info": {
   "codemirror_mode": {
    "name": "ipython",
    "version": 3
   },
   "file_extension": ".py",
   "mimetype": "text/x-python",
   "name": "python",
   "nbconvert_exporter": "python",
   "pygments_lexer": "ipython3",
   "version": "3.9.7"
  }
 },
 "nbformat": 4,
 "nbformat_minor": 4
}
