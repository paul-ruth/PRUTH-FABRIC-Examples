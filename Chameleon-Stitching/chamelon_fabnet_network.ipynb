{
 "cells": [
  {
   "cell_type": "markdown",
   "metadata": {
    "pycharm": {
     "name": "#%% md\n"
    }
   },
   "source": [
    "##  Chameleon/FABRIC L3 Stitching\n",
    "\n",
    "This notebook demonstrates how to stitch Chameleon experiments to FABRIC."
   ]
  },
  {
   "cell_type": "markdown",
   "metadata": {},
   "source": [
    "### Set Chameleon Environment\n",
    "\n",
    "FABRIC should already be configured in your Jupyter environment. If this is your first time using FABRIC, may need to follow the [Configure Environment](./fabric_examples/fablib_api/configure_environment/configure_environment.ipynb) notebook to complete the configuration.\n",
    "\n",
    "Set the following environment vars to the values found in your custom Chameleon-openrc.sh file. You can obtain your Chameleon-openrc.sh from Chameleon using these [directions](https://chameleoncloud.readthedocs.io/en/latest/technical/cli.html#the-openstack-rc-script).  The expected password is not your regular Chameleon password. Instead, you need to create a Chameleon CLI password by following these [directions](https://chameleoncloud.readthedocs.io/en/latest/technical/cli.html#cli-authentication)"
   ]
  },
  {
   "cell_type": "code",
   "execution_count": null,
   "metadata": {},
   "outputs": [],
   "source": [
    "import os\n",
    "import sys\n",
    "\n",
    "module_path = os.path.abspath(os.path.join(f\"{os.environ['HOME']}/work/PRUTH-FABRIC-Examples/fablib_local\"))\n",
    "if module_path not in sys.path:\n",
    "    sys.path.append(module_path)\n",
    "    \n",
    "from chameleon_utils.chameleon_config import *\n",
    "load_chameleon_rc_environment(chameleon_rc_file=f\"{os.environ['HOME']}/work/fablib_local_private_config/Chameleon-openrc.sh\")\n",
    "\n",
    "    \n",
    "from fablib_custom.fablib_custom import *\n",
    "from fablib_common_utils.utils import *\n",
    "from fablib_common_utils.fabric_fabnet_slice import *\n",
    "\n",
    "from chameleon_utils.chameleon_fabnet_stitching import *\n",
    "from chameleon_utils.chameleon_create_servers import *\n",
    "from chameleon_utils.chameleon_leases import *\n"
   ]
  },
  {
   "cell_type": "markdown",
   "metadata": {},
   "source": [
    "Pick a name for the Chameleon and FABRIC resources. A common issue you might encounter is using a name that is already used on Chameleon. One suggestion is to embedded the date/time in the name to increase the likelyhood that the name is unique."
   ]
  },
  {
   "cell_type": "code",
   "execution_count": null,
   "metadata": {},
   "outputs": [],
   "source": [
    "time_stamp = datetime.now(tz=tz.tzutc()).strftime('%Y%m%d%H%M')\n",
    "\n",
    "stitch_name=f\"pruth_stitch_{time_stamp}\"\n",
    "servers_name=f\"pruth_servers_{time_stamp}\"\n",
    "\n",
    "print(f'time_stamp: {time_stamp}')"
   ]
  },
  {
   "cell_type": "code",
   "execution_count": null,
   "metadata": {},
   "outputs": [],
   "source": [
    "server_lease = create_chameleon_server_lease(name=servers_name) #, node_type='compute_skylake')\n",
    "fabric_net_lease = create_chameleon_stitched_network_lease(name=stitch_name)\n",
    "#lease = create_chameleon_storage_network_lease(name=lease_name)\n"
   ]
  },
  {
   "cell_type": "code",
   "execution_count": null,
   "metadata": {},
   "outputs": [],
   "source": [
    "#delete_chameleon_lease(lease_name)"
   ]
  },
  {
   "cell_type": "code",
   "execution_count": null,
   "metadata": {},
   "outputs": [],
   "source": [
    "try:\n",
    "    create_chameleon_fabnetv4_network(name=stitch_name, lease=fabric_net_lease)\n",
    "except Exception as e:\n",
    "    print(f\"Exception: {e}\")\n",
    "    raise e"
   ]
  },
  {
   "cell_type": "markdown",
   "metadata": {},
   "source": [
    "## Add Chameleon Nodes to the FABNet Network"
   ]
  },
  {
   "cell_type": "code",
   "execution_count": null,
   "metadata": {},
   "outputs": [],
   "source": [
    "try:\n",
    "    server_count = 1\n",
    "    create_chameleon_servers(name=f\"{stitch_name}_servers\", \n",
    "                              count=server_count, \n",
    "                              #node_type='compute_skylake',\n",
    "                              #de_type='compute_cascadelake_r',\n",
    "                              image_name='CC-CentOS8-stream', #'CC-Ubuntu20.04',\n",
    "                              key_name='my_chameleon_key',\n",
    "                              network_name=stitch_name, \n",
    "                              lease=server_lease) \n",
    "except Exception as e:\n",
    "    print(f\"Exception: {e}\")  \n"
   ]
  },
  {
   "cell_type": "code",
   "execution_count": null,
   "metadata": {},
   "outputs": [],
   "source": [
    "#get fixed ips\n",
    "fixed_ips={}\n",
    "for i in range(1,server_count+1):\n",
    "    server_name=f\"{stitch_name}_servers\"\n",
    "    #server_name=f\"{stitch_name}_servers-{i}\"\n",
    "    server_id = chi.server.get_server_id(server_name)\n",
    "    fixed_ip = chi.server.get_server(server_id).interface_list()[0].to_dict()[\"fixed_ips\"][0][\"ip_address\"]\n",
    "    fixed_ips[server_name]=fixed_ip\n",
    "\n",
    "for server_name,fixed_ip in fixed_ips.items():\n",
    "    print(f'{server_name}: {fixed_ip}')"
   ]
  },
  {
   "cell_type": "markdown",
   "metadata": {},
   "source": [
    "## Add Nodes to FABRIC"
   ]
  },
  {
   "cell_type": "code",
   "execution_count": null,
   "metadata": {},
   "outputs": [],
   "source": [
    "slice = create_fabnet_slice(name=f\"{stitch_name}_UTAH_servers\", node_count=1, sites=['UTAH'])"
   ]
  },
  {
   "cell_type": "markdown",
   "metadata": {},
   "source": [
    "## Do something with the Nodes"
   ]
  },
  {
   "cell_type": "code",
   "execution_count": null,
   "metadata": {},
   "outputs": [],
   "source": [
    "threads = []\n",
    "for node in slice.get_nodes():\n",
    "    threads.append(node.execute_thread(f'ping -c 5  10.129.130.8'))\n",
    "    \n",
    "for thread in threads:\n",
    "    stdout, stderr = thread.result()\n",
    "    print(stdout)\n",
    "    print(stderr)"
   ]
  },
  {
   "cell_type": "code",
   "execution_count": null,
   "metadata": {},
   "outputs": [],
   "source": [
    "for node in slice.get_nodes():\n",
    "    #stdout, stderr = node.execute(f'ping -c 5 10.129.129.1')\n",
    "    #print(stdout)\n",
    "    #print(stderr)\n",
    "    #stdout, stderr = node.execute(f'ping -c 5 10.129.129.250')\n",
    "    #print(stdout)\n",
    "    #print(stderr)\n",
    "    for server_name,fixed_ip in fixed_ips.items():\n",
    "        print(f'---- {node.get_name()} -> {server_name} {fixed_ip}---')\n",
    "        stdout, stderr = node.execute(f'ping -c 5 {fixed_ip}')    \n",
    "        print(stdout)\n",
    "        print(stderr)"
   ]
  },
  {
   "cell_type": "markdown",
   "metadata": {
    "pycharm": {
     "name": "#%% md\n"
    }
   },
   "source": [
    "# Clean Up "
   ]
  },
  {
   "cell_type": "code",
   "execution_count": null,
   "metadata": {},
   "outputs": [],
   "source": [
    "try:\n",
    "\n",
    "    delete_chameleon_servers(name=f\"{stitch_name}_servers\") \n",
    "except Exception as e:\n",
    "    print(f\"Exception: {e}\")  "
   ]
  },
  {
   "cell_type": "code",
   "execution_count": null,
   "metadata": {},
   "outputs": [],
   "source": [
    "try:\n",
    "    delete_chameleon_fabnet_stitch(name=name)\n",
    "except Exception as e:\n",
    "    print(f\"Exception: {e}\")\n"
   ]
  },
  {
   "cell_type": "code",
   "execution_count": null,
   "metadata": {},
   "outputs": [],
   "source": [
    "try:\n",
    "    delete_fabnet_slice(name=name)\n",
    "except Exception as e:\n",
    "    print(f\"Exception: {e}\")"
   ]
  },
  {
   "cell_type": "code",
   "execution_count": null,
   "metadata": {},
   "outputs": [],
   "source": [
    "try:\n",
    "    fablib = fablib_manager()\n",
    "\n",
    "    #fablib.show_config()\n",
    "    fablib.delete_all()\n",
    "except Exception as e:\n",
    "    print(f\"Exception: {e}\") "
   ]
  },
  {
   "cell_type": "code",
   "execution_count": null,
   "metadata": {},
   "outputs": [],
   "source": []
  }
 ],
 "metadata": {
  "kernelspec": {
   "display_name": "Python 3 (ipykernel)",
   "language": "python",
   "name": "python3"
  },
  "language_info": {
   "codemirror_mode": {
    "name": "ipython",
    "version": 3
   },
   "file_extension": ".py",
   "mimetype": "text/x-python",
   "name": "python",
   "nbconvert_exporter": "python",
   "pygments_lexer": "ipython3",
   "version": "3.9.7"
  }
 },
 "nbformat": 4,
 "nbformat_minor": 4
}
