{
 "cells": [
  {
   "cell_type": "markdown",
   "metadata": {
    "pycharm": {
     "name": "#%% md\n"
    }
   },
   "source": [
    "##  Chameleon/FABRIC L3 Stitching\n",
    "\n",
    "This notebook demonstrates how to stitch Chameleon experiments to FABRIC."
   ]
  },
  {
   "cell_type": "markdown",
   "metadata": {},
   "source": [
    "### Set Chameleon Environment\n",
    "\n",
    "FABRIC should already be configured in your Jupyter environment. If this is your first time using FABRIC, may need to follow the [Configure Environment](./fabric_examples/fablib_api/configure_environment/configure_environment.ipynb) notebook to complete the configuration.\n",
    "\n",
    "Set the following environment vars to the values found in your custom Chameleon-openrc.sh file. You can obtain your Chameleon-openrc.sh from Chameleon using these [directions](https://chameleoncloud.readthedocs.io/en/latest/technical/cli.html#the-openstack-rc-script).  The expected password is not your regular Chameleon password. Instead, you need to create a Chameleon CLI password by following these [directions](https://chameleoncloud.readthedocs.io/en/latest/technical/cli.html#cli-authentication)"
   ]
  },
  {
   "cell_type": "code",
   "execution_count": 1,
   "metadata": {},
   "outputs": [],
   "source": [
    "import os\n",
    "import sys\n",
    "\n",
    "module_path = os.path.abspath(os.path.join(f\"{os.environ['HOME']}/work/PRUTH-FABRIC-Examples/fablib_local\"))\n",
    "if module_path not in sys.path:\n",
    "    sys.path.append(module_path)\n",
    "    \n",
    "from chameleon_utils.chameleon_config import *\n",
    "load_chameleon_rc_environment(chameleon_rc_file=f\"{os.environ['HOME']}/work/fablib_local_private_config/Chameleon-openrc.sh\")\n",
    "\n",
    "    \n",
    "from fablib_custom.fablib_custom import *\n",
    "from fablib_common_utils.utils import *\n",
    "from fablib_common_utils.fabric_fabnet_slice import *\n",
    "\n",
    "from chameleon_utils.chameleon_stitching import *\n",
    "from chameleon_utils.chameleon_servers import *\n",
    "from chameleon_utils.chameleon_leases import *\n"
   ]
  },
  {
   "cell_type": "markdown",
   "metadata": {},
   "source": [
    "Pick a name for the Chameleon and FABRIC resources. A common issue you might encounter is using a name that is already used on Chameleon. One suggestion is to embedded the date/time in the name to increase the likelyhood that the name is unique."
   ]
  },
  {
   "cell_type": "code",
   "execution_count": 2,
   "metadata": {},
   "outputs": [
    {
     "name": "stdout",
     "output_type": "stream",
     "text": [
      "time_stamp: 202209181320\n"
     ]
    }
   ],
   "source": [
    "time_stamp = datetime.now(tz=tz.tzutc()).strftime('%Y%m%d%H%M')\n",
    "\n",
    "stitch_name=f\"pruth_stitch_{time_stamp}\"\n",
    "servers_name=f\"pruth_servers_{time_stamp}\"\n",
    "\n",
    "print(f'time_stamp: {time_stamp}')"
   ]
  },
  {
   "cell_type": "code",
   "execution_count": 3,
   "metadata": {},
   "outputs": [
    {
     "name": "stdout",
     "output_type": "stream",
     "text": [
      "Waiting for Chameleon lease .....done.\n",
      "FABRIC network reservation: name: pruth_stitch_202209181320, stitch_provider: fabric\n",
      "Waiting for Chameleon lease ......done.\n"
     ]
    }
   ],
   "source": [
    "server_lease = create_chameleon_server_lease(name=servers_name) #, node_type='compute_skylake')\n",
    "fabric_net_lease = create_chameleon_stitched_network_lease(name=stitch_name)\n",
    "#lease = create_chameleon_storage_network_lease(name=lease_name)\n"
   ]
  },
  {
   "cell_type": "code",
   "execution_count": 4,
   "metadata": {},
   "outputs": [],
   "source": [
    "#delete_chameleon_lease(lease_name)"
   ]
  },
  {
   "cell_type": "code",
   "execution_count": 5,
   "metadata": {},
   "outputs": [
    {
     "name": "stdout",
     "output_type": "stream",
     "text": [
      "Creating Chameleon lease and network pruth_stitch_202209181320 ...\n",
      "Chameleon lease: d8525f2b-6cc2-4dd3-824c-f80ad3ac15fe\n",
      "Waiting for Chameleon network  Done!\n",
      "Chameleon network ready, ID: 63e1364a-8e85-4fa9-860a-45a15babf12a, vlan: 3303\n",
      "Creating FABRIC slice...\n",
      "create_fabric_slice:  name pruth_stitch_202209181320 vlan: 3303\n",
      "FABRIC slice ready, FABnet subnet: 10.129.131.0/24, gw: 10.129.131.1\n",
      "Configuring Chameleon network...\n",
      "Chameleon FABnet stitch is ready\n"
     ]
    }
   ],
   "source": [
    "try:\n",
    "    create_chameleon_fabnetv4_network(name=stitch_name, lease=fabric_net_lease)\n",
    "except Exception as e:\n",
    "    print(f\"Exception: {e}\")\n",
    "    raise e"
   ]
  },
  {
   "cell_type": "markdown",
   "metadata": {},
   "source": [
    "## Add Chameleon Nodes to the FABNet Network"
   ]
  },
  {
   "cell_type": "code",
   "execution_count": 6,
   "metadata": {},
   "outputs": [
    {
     "name": "stdout",
     "output_type": "stream",
     "text": [
      "Compute reservation_id 5c97a47f-feb9-4856-b3da-1a95965dc1f6\n",
      "Waiting for server fixed IPs ..done!\n"
     ]
    }
   ],
   "source": [
    "try:\n",
    "    server_count = 1\n",
    "    create_chameleon_servers(name=f\"{stitch_name}_servers\", \n",
    "                              count=server_count, \n",
    "                              #node_type='compute_skylake',\n",
    "                              #de_type='compute_cascadelake_r',\n",
    "                              image_name='CC-CentOS8-stream', #'CC-Ubuntu20.04',\n",
    "                              key_name='my_chameleon_key',\n",
    "                              network_name=stitch_name, \n",
    "                              lease=server_lease) \n",
    "except Exception as e:\n",
    "    print(f\"Exception: {e}\")  \n"
   ]
  },
  {
   "cell_type": "code",
   "execution_count": 7,
   "metadata": {},
   "outputs": [
    {
     "name": "stdout",
     "output_type": "stream",
     "text": [
      "pruth_stitch_202209181320_servers: 10.129.131.14\n"
     ]
    }
   ],
   "source": [
    "#get fixed ips\n",
    "fixed_ips={}\n",
    "for i in range(1,server_count+1):\n",
    "    server_name=f\"{stitch_name}_servers\"\n",
    "    #server_name=f\"{stitch_name}_servers-{i}\"\n",
    "    server_id = chi.server.get_server_id(server_name)\n",
    "    fixed_ip = chi.server.get_server(server_id).interface_list()[0].to_dict()[\"fixed_ips\"][0][\"ip_address\"]\n",
    "    fixed_ips[server_name]=fixed_ip\n",
    "\n",
    "for server_name,fixed_ip in fixed_ips.items():\n",
    "    print(f'{server_name}: {fixed_ip}')"
   ]
  },
  {
   "cell_type": "markdown",
   "metadata": {},
   "source": [
    "## Add Nodes to FABRIC"
   ]
  },
  {
   "cell_type": "code",
   "execution_count": 11,
   "metadata": {},
   "outputs": [
    {
     "data": {
      "text/html": [
       "<style type=\"text/css\">\n",
       "#T_cf091 caption {\n",
       "  caption-side: top;\n",
       "  font-size: 1.25em;\n",
       "}\n",
       "#T_cf091_row0_col0, #T_cf091_row0_col1, #T_cf091_row1_col0, #T_cf091_row1_col1, #T_cf091_row2_col0, #T_cf091_row2_col1, #T_cf091_row3_col0, #T_cf091_row3_col1 {\n",
       "  text-align: left;\n",
       "  border: 1px black solid !important;\n",
       "}\n",
       "</style>\n",
       "<table id=\"T_cf091\">\n",
       "  <caption>Slice Reservation Status</caption>\n",
       "  <thead>\n",
       "  </thead>\n",
       "  <tbody>\n",
       "    <tr>\n",
       "      <td id=\"T_cf091_row0_col0\" class=\"data row0 col0\" >Slice Name</td>\n",
       "      <td id=\"T_cf091_row0_col1\" class=\"data row0 col1\" >pruth_stitch_202209181320_star2_servers</td>\n",
       "    </tr>\n",
       "    <tr>\n",
       "      <td id=\"T_cf091_row1_col0\" class=\"data row1 col0\" >Slice ID</td>\n",
       "      <td id=\"T_cf091_row1_col1\" class=\"data row1 col1\" >d15a934d-45ab-445f-832f-61ac1c03e91b</td>\n",
       "    </tr>\n",
       "    <tr>\n",
       "      <td id=\"T_cf091_row2_col0\" class=\"data row2 col0\" >Slice State</td>\n",
       "      <td id=\"T_cf091_row2_col1\" class=\"data row2 col1\" >StableOK</td>\n",
       "    </tr>\n",
       "    <tr>\n",
       "      <td id=\"T_cf091_row3_col0\" class=\"data row3 col0\" >Lease End (UTC)</td>\n",
       "      <td id=\"T_cf091_row3_col1\" class=\"data row3 col1\" >2022-09-19 13:39:04 +0000</td>\n",
       "    </tr>\n",
       "  </tbody>\n",
       "</table>\n"
      ],
      "text/plain": [
       "<pandas.io.formats.style.Styler at 0x7f3fcc52f9d0>"
      ]
     },
     "metadata": {},
     "output_type": "display_data"
    },
    {
     "name": "stdout",
     "output_type": "stream",
     "text": [
      "\n",
      "Retry: 12, Time: 138 sec\n"
     ]
    },
    {
     "data": {
      "text/html": [
       "<style type=\"text/css\">\n",
       "#T_3fd54 caption {\n",
       "  caption-side: top;\n",
       "  font-size: 1.25em;\n",
       "}\n",
       "#T_3fd54_row0_col0, #T_3fd54_row0_col1, #T_3fd54_row0_col2, #T_3fd54_row0_col3, #T_3fd54_row0_col4, #T_3fd54_row0_col5, #T_3fd54_row0_col6, #T_3fd54_row0_col7, #T_3fd54_row0_col9 {\n",
       "  text-align: left;\n",
       "  background-color: ;\n",
       "  text-align: left;\n",
       "}\n",
       "#T_3fd54_row0_col8 {\n",
       "  text-align: left;\n",
       "  background-color: ;\n",
       "  color: green;\n",
       "  text-align: left;\n",
       "}\n",
       "</style>\n",
       "<table id=\"T_3fd54\">\n",
       "  <caption>List of Nodes in pruth_stitch_202209181320_star2_servers</caption>\n",
       "  <thead>\n",
       "    <tr>\n",
       "      <th class=\"index_name level0\" >Name</th>\n",
       "      <th id=\"T_3fd54_level0_col0\" class=\"col_heading level0 col0\" >ID</th>\n",
       "      <th id=\"T_3fd54_level0_col1\" class=\"col_heading level0 col1\" >Site</th>\n",
       "      <th id=\"T_3fd54_level0_col2\" class=\"col_heading level0 col2\" >Host</th>\n",
       "      <th id=\"T_3fd54_level0_col3\" class=\"col_heading level0 col3\" >Cores</th>\n",
       "      <th id=\"T_3fd54_level0_col4\" class=\"col_heading level0 col4\" >RAM</th>\n",
       "      <th id=\"T_3fd54_level0_col5\" class=\"col_heading level0 col5\" >Disk</th>\n",
       "      <th id=\"T_3fd54_level0_col6\" class=\"col_heading level0 col6\" >Image</th>\n",
       "      <th id=\"T_3fd54_level0_col7\" class=\"col_heading level0 col7\" >Management IP</th>\n",
       "      <th id=\"T_3fd54_level0_col8\" class=\"col_heading level0 col8\" >State</th>\n",
       "      <th id=\"T_3fd54_level0_col9\" class=\"col_heading level0 col9\" >Error</th>\n",
       "    </tr>\n",
       "  </thead>\n",
       "  <tbody>\n",
       "    <tr>\n",
       "      <th id=\"T_3fd54_level0_row0\" class=\"row_heading level0 row0\" >STAR_node1</th>\n",
       "      <td id=\"T_3fd54_row0_col0\" class=\"data row0 col0\" >389c22ab-46a2-4fb3-b069-42ecb2b376d8</td>\n",
       "      <td id=\"T_3fd54_row0_col1\" class=\"data row0 col1\" >STAR</td>\n",
       "      <td id=\"T_3fd54_row0_col2\" class=\"data row0 col2\" >star-w5.fabric-testbed.net</td>\n",
       "      <td id=\"T_3fd54_row0_col3\" class=\"data row0 col3\" >2</td>\n",
       "      <td id=\"T_3fd54_row0_col4\" class=\"data row0 col4\" >8</td>\n",
       "      <td id=\"T_3fd54_row0_col5\" class=\"data row0 col5\" >10</td>\n",
       "      <td id=\"T_3fd54_row0_col6\" class=\"data row0 col6\" >default_rocky_8</td>\n",
       "      <td id=\"T_3fd54_row0_col7\" class=\"data row0 col7\" >2001:400:a100:3030:f816:3eff:fe32:1e7c</td>\n",
       "      <td id=\"T_3fd54_row0_col8\" class=\"data row0 col8\" >Active</td>\n",
       "      <td id=\"T_3fd54_row0_col9\" class=\"data row0 col9\" ></td>\n",
       "    </tr>\n",
       "  </tbody>\n",
       "</table>\n"
      ],
      "text/plain": [
       "<pandas.io.formats.style.Styler at 0x7f3fcc52f460>"
      ]
     },
     "metadata": {},
     "output_type": "display_data"
    },
    {
     "name": "stdout",
     "output_type": "stream",
     "text": [
      "\n",
      "Time to stable 138 seconds\n",
      "Running post_boot_config ... Time to post boot config 145 seconds\n"
     ]
    },
    {
     "data": {
      "text/html": [
       "<style type=\"text/css\">\n",
       "#T_a7840 caption {\n",
       "  caption-side: top;\n",
       "  font-size: 1.25em;\n",
       "}\n",
       "#T_a7840_row0_col0, #T_a7840_row0_col1, #T_a7840_row0_col2, #T_a7840_row0_col3, #T_a7840_row0_col4, #T_a7840_row0_col5, #T_a7840_row0_col6 {\n",
       "  text-align: left;\n",
       "}\n",
       "</style>\n",
       "<table id=\"T_a7840\">\n",
       "  <caption>Slice Interfaces Information</caption>\n",
       "  <thead>\n",
       "    <tr>\n",
       "      <th class=\"index_name level0\" >Name</th>\n",
       "      <th id=\"T_a7840_level0_col0\" class=\"col_heading level0 col0\" >Node</th>\n",
       "      <th id=\"T_a7840_level0_col1\" class=\"col_heading level0 col1\" >Network</th>\n",
       "      <th id=\"T_a7840_level0_col2\" class=\"col_heading level0 col2\" >Bandwidth</th>\n",
       "      <th id=\"T_a7840_level0_col3\" class=\"col_heading level0 col3\" >VLAN</th>\n",
       "      <th id=\"T_a7840_level0_col4\" class=\"col_heading level0 col4\" >MAC</th>\n",
       "      <th id=\"T_a7840_level0_col5\" class=\"col_heading level0 col5\" >Physical OS Interface</th>\n",
       "      <th id=\"T_a7840_level0_col6\" class=\"col_heading level0 col6\" >OS Interface</th>\n",
       "    </tr>\n",
       "  </thead>\n",
       "  <tbody>\n",
       "    <tr>\n",
       "      <th id=\"T_a7840_level0_row0\" class=\"row_heading level0 row0\" >STAR_node1-nic1-p1</th>\n",
       "      <td id=\"T_a7840_row0_col0\" class=\"data row0 col0\" >STAR_node1</td>\n",
       "      <td id=\"T_a7840_row0_col1\" class=\"data row0 col1\" >STAR_net</td>\n",
       "      <td id=\"T_a7840_row0_col2\" class=\"data row0 col2\" >0</td>\n",
       "      <td id=\"T_a7840_row0_col3\" class=\"data row0 col3\" >None</td>\n",
       "      <td id=\"T_a7840_row0_col4\" class=\"data row0 col4\" >06:8F:67:C2:A1:CC</td>\n",
       "      <td id=\"T_a7840_row0_col5\" class=\"data row0 col5\" >eth1</td>\n",
       "      <td id=\"T_a7840_row0_col6\" class=\"data row0 col6\" >eth1</td>\n",
       "    </tr>\n",
       "  </tbody>\n",
       "</table>\n"
      ],
      "text/plain": [
       "<pandas.io.formats.style.Styler at 0x7f3fcc5db8b0>"
      ]
     },
     "metadata": {},
     "output_type": "display_data"
    },
    {
     "name": "stdout",
     "output_type": "stream",
     "text": [
      "\n",
      "None\n",
      "\n",
      "Time to print interfaces 149 seconds\n",
      "-----------  ---------------------------------------\n",
      "Slice Name   pruth_stitch_202209181320_star2_servers\n",
      "Slice ID     d15a934d-45ab-445f-832f-61ac1c03e91b\n",
      "Slice State  StableOK\n",
      "Lease End    2022-09-19 13:39:04 +0000\n",
      "-----------  ---------------------------------------\n",
      "STAR_node1: ip 10.129.132.2, subnet 10.129.132.0/24, host route: 10.128.0.0/10 via 10.129.132.1\n"
     ]
    }
   ],
   "source": [
    "slice = create_fabnet_slice(name=f\"{stitch_name}_star2_servers\", node_count=1, sites=['STAR'])"
   ]
  },
  {
   "cell_type": "markdown",
   "metadata": {},
   "source": [
    "## Do something with the Nodes"
   ]
  },
  {
   "cell_type": "code",
   "execution_count": null,
   "metadata": {},
   "outputs": [],
   "source": [
    "threads = []\n",
    "for node in slice.get_nodes():\n",
    "    threads.append(node.execute_thread(f'ping -c 5  10.129.130.8'))\n",
    "    \n",
    "for thread in threads:\n",
    "    stdout, stderr = thread.result()\n",
    "    print(stdout)\n",
    "    print(stderr)"
   ]
  },
  {
   "cell_type": "code",
   "execution_count": null,
   "metadata": {},
   "outputs": [],
   "source": [
    "for node in slice.get_nodes():\n",
    "    #stdout, stderr = node.execute(f'ping -c 5 10.129.129.1')\n",
    "    #print(stdout)\n",
    "    #print(stderr)\n",
    "    #stdout, stderr = node.execute(f'ping -c 5 10.129.129.250')\n",
    "    #print(stdout)\n",
    "    #print(stderr)\n",
    "    for server_name,fixed_ip in fixed_ips.items():\n",
    "        print(f'---- {node.get_name()} -> {server_name} {fixed_ip}---')\n",
    "        stdout, stderr = node.execute(f'ping -c 5 {fixed_ip}')    \n",
    "        print(stdout)\n",
    "        print(stderr)"
   ]
  },
  {
   "cell_type": "markdown",
   "metadata": {
    "pycharm": {
     "name": "#%% md\n"
    }
   },
   "source": [
    "# Clean Up "
   ]
  },
  {
   "cell_type": "code",
   "execution_count": null,
   "metadata": {},
   "outputs": [],
   "source": [
    "try:\n",
    "\n",
    "    delete_chameleon_servers(name=f\"{stitch_name}_servers\") \n",
    "except Exception as e:\n",
    "    print(f\"Exception: {e}\")  "
   ]
  },
  {
   "cell_type": "code",
   "execution_count": null,
   "metadata": {},
   "outputs": [],
   "source": [
    "try:\n",
    "    delete_chameleon_fabnet_stitch(name=name)\n",
    "except Exception as e:\n",
    "    print(f\"Exception: {e}\")\n"
   ]
  },
  {
   "cell_type": "code",
   "execution_count": null,
   "metadata": {},
   "outputs": [],
   "source": [
    "try:\n",
    "    delete_fabnet_slice(name=name)\n",
    "except Exception as e:\n",
    "    print(f\"Exception: {e}\")"
   ]
  },
  {
   "cell_type": "code",
   "execution_count": null,
   "metadata": {},
   "outputs": [],
   "source": [
    "try:\n",
    "    fablib = fablib_manager()\n",
    "\n",
    "    #fablib.show_config()\n",
    "    fablib.delete_all()\n",
    "except Exception as e:\n",
    "    print(f\"Exception: {e}\") "
   ]
  },
  {
   "cell_type": "code",
   "execution_count": null,
   "metadata": {},
   "outputs": [],
   "source": []
  }
 ],
 "metadata": {
  "kernelspec": {
   "display_name": "Python 3 (ipykernel)",
   "language": "python",
   "name": "python3"
  },
  "language_info": {
   "codemirror_mode": {
    "name": "ipython",
    "version": 3
   },
   "file_extension": ".py",
   "mimetype": "text/x-python",
   "name": "python",
   "nbconvert_exporter": "python",
   "pygments_lexer": "ipython3",
   "version": "3.9.7"
  }
 },
 "nbformat": 4,
 "nbformat_minor": 4
}
