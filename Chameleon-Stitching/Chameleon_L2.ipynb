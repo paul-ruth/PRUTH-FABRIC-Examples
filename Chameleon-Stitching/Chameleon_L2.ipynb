{
 "cells": [
  {
   "cell_type": "markdown",
   "metadata": {
    "pycharm": {
     "name": "#%% md\n"
    }
   },
   "source": [
    "##  Chameleon/FABRIC L2 Stitching\n",
    "\n",
    "This notebook demonstrates how to stitch Chameleon experiments to FABRIC."
   ]
  },
  {
   "cell_type": "markdown",
   "metadata": {},
   "source": [
    "### Set Chameleon Environment\n",
    "\n",
    "FABRIC should already be configured in your Jupyter environment. If this is your first time using FABRIC, may need to follow the [Configure Environment](./fabric_examples/fablib_api/configure_environment/configure_environment.ipynb) notebook to complete the configuration.\n",
    "\n",
    "Set the following environment vars to the values found in your custom Chameleon-openrc.sh file. You can obtain your Chameleon-openrc.sh from Chameleon using these [directions](https://chameleoncloud.readthedocs.io/en/latest/technical/cli.html#the-openstack-rc-script).  The expected password is not your regular Chameleon password. Instead, you need to create a Chameleon CLI password by following these [directions](https://chameleoncloud.readthedocs.io/en/latest/technical/cli.html#cli-authentication)"
   ]
  },
  {
   "cell_type": "code",
   "execution_count": null,
   "metadata": {
    "jupyter": {
     "outputs_hidden": false
    },
    "pycharm": {
     "name": "#%%\n"
    }
   },
   "outputs": [],
   "source": [
    "import os\n",
    "import sys\n",
    "\n",
    "\n",
    "module_path = os.path.abspath(os.path.join(f\"{os.environ['HOME']}/work/PRUTH-FABRIC-Examples/fablib_local\"))\n",
    "if module_path not in sys.path:\n",
    "    sys.path.append(module_path)\n",
    "    \n",
    "from chameleon_utils.chameleon_config import *\n",
    "load_chameleon_rc_environment(chameleon_rc_file=f\"{os.environ['HOME']}/work/fablib_local_private_config/Chameleon-openrc.sh\")\n",
    "\n",
    "    \n",
    "from fablib_custom.fablib_custom import *\n",
    "from fablib_common_utils.utils import *\n",
    "from fablib_common_utils.fabric_fabnet_slice import *\n",
    "\n",
    "from chameleon_utils.chameleon_stitching import *\n",
    "from chameleon_utils.chameleon_servers import *"
   ]
  },
  {
   "cell_type": "markdown",
   "metadata": {
    "pycharm": {
     "name": "#%% md\n"
    }
   },
   "source": [
    "### Import Libraries"
   ]
  },
  {
   "cell_type": "code",
   "execution_count": null,
   "metadata": {
    "jupyter": {
     "outputs_hidden": false
    },
    "pycharm": {
     "name": "#%%\n"
    }
   },
   "outputs": [],
   "source": [
    "#General imports\n",
    "import os\n",
    "import json\n",
    "import traceback\n",
    "from ipaddress import ip_address, IPv4Address, IPv6Address, IPv4Network, IPv6Network\n",
    "from datetime import datetime, timedelta\n",
    "from dateutil import tz\n",
    "import time\n",
    "\n",
    "# Chameleon Library\n",
    "import chi\n",
    "import chi.lease \n",
    "from chi.server import *\n",
    "from chi.lease import *\n",
    "from chi.network import *\n",
    "\n",
    "# FABRIC Library\n",
    "from fabrictestbed_extensions.fablib.fablib import FablibManager as fablib_manager"
   ]
  },
  {
   "cell_type": "code",
   "execution_count": null,
   "metadata": {},
   "outputs": [],
   "source": [
    "time_stamp = datetime.now(tz=tz.tzutc()).strftime('%Y%m%d%H%M')\n",
    "\n",
    "ext=f'_pruth_{time_stamp}'"
   ]
  },
  {
   "cell_type": "markdown",
   "metadata": {},
   "source": [
    "### Chameleon Experiment Variable"
   ]
  },
  {
   "cell_type": "code",
   "execution_count": null,
   "metadata": {
    "jupyter": {
     "outputs_hidden": false
    },
    "pycharm": {
     "name": "#%%\n"
    }
   },
   "outputs": [],
   "source": [
    "# Chameleon Config\n",
    "chameleon_prefix =  f\"pruth_fabric_stitch{ext}\"\n",
    "chameleon_server_name = chameleon_prefix+'server'\n",
    "chameleon_network_name = chameleon_prefix+'net'\n",
    "chameleon_subnet_name = chameleon_prefix+'subnet'\n",
    "chameleon_router_name = chameleon_prefix+'router'\n",
    "chameleon_lease_name = chameleon_prefix+'lease'\n",
    "\n",
    "chameleon_image_name='CC-Ubuntu20.04'\n",
    "chameleon_node_type=\"compute_cascadelake_r\"\n",
    "chameleon_physical_network='physnet1'\n",
    "chameleon_stitch_provider='fabric'\n",
    "chameleon_server_count=2\n",
    "chameleon_key_name='my_chameleon_key'"
   ]
  },
  {
   "cell_type": "markdown",
   "metadata": {},
   "source": [
    "### FABRIC Experiment Variables"
   ]
  },
  {
   "cell_type": "code",
   "execution_count": null,
   "metadata": {
    "jupyter": {
     "outputs_hidden": false
    },
    "pycharm": {
     "name": "#%%\n"
    }
   },
   "outputs": [],
   "source": [
    "# Create a FABlib manager\n",
    "fablib = fablib_manager()\n",
    "fablib.show_config()\n",
    "\n",
    "# FABRIC Config\n",
    "fabric_slice_name=f'chameleon_stitch{ext}'\n",
    "fabric_node_name='node1'\n",
    "\n",
    "fabric_node_image='default_ubuntu_20'\n",
    "#fabric_site=fablib.get_random_site()\n",
    "fabric_site='STAR'\n",
    "print(f'fabric_site: {fabric_site}')"
   ]
  },
  {
   "cell_type": "markdown",
   "metadata": {},
   "source": [
    "### Network Variables\n",
    "\n",
    "The stitched network spans both Chameleon and FABRIC. The network needs a common subnet but distinct IP address allocation pools."
   ]
  },
  {
   "cell_type": "code",
   "execution_count": null,
   "metadata": {
    "jupyter": {
     "outputs_hidden": false
    },
    "pycharm": {
     "name": "#%%\n"
    }
   },
   "outputs": [],
   "source": [
    "#Network Config\n",
    "subnet = IPv4Network(\"192.168.100.0/24\")\n",
    "\n",
    "fabric_allocation_pool_start=IPv4Address('192.168.100.200')\n",
    "fabric_allocation_pool_end=IPv4Address('192.168.100.250')\n",
    "fabric_available_ips=[]\n",
    "for ip_int in range(int(fabric_allocation_pool_start),int(fabric_allocation_pool_end)+1):\n",
    "    fabric_available_ips.append(IPv4Address(ip_int))\n",
    "    \n",
    "chameleon_allocation_pool_start='192.168.100.100'\n",
    "chameleon_allocation_pool_end='192.168.100.150'\n",
    "chameleon_gateway_ip='192.168.100.1'"
   ]
  },
  {
   "cell_type": "markdown",
   "metadata": {
    "pycharm": {
     "name": "#%% md\n"
    }
   },
   "source": [
    "## Create the Chameleon Network"
   ]
  },
  {
   "cell_type": "markdown",
   "metadata": {
    "pycharm": {
     "name": "#%% md\n"
    }
   },
   "source": [
    "#### Create a Lease at Chicago"
   ]
  },
  {
   "cell_type": "code",
   "execution_count": null,
   "metadata": {
    "jupyter": {
     "outputs_hidden": false
    },
    "pycharm": {
     "name": "#%%\n"
    }
   },
   "outputs": [],
   "source": [
    "BLAZAR_TIME_FORMAT = '%Y-%m-%d %H:%M'\n",
    "\n",
    "# Set start/end date for lease\n",
    "# Start one minute into future to avoid Blazar thinking lease is in past\n",
    "# due to rounding to closest minute.\n",
    "start_date = (datetime.now(tz=tz.tzutc()) + timedelta(minutes=1)).strftime(BLAZAR_TIME_FORMAT)\n",
    "end_date   = (datetime.now(tz=tz.tzutc()) + timedelta(days=1)).strftime(BLAZAR_TIME_FORMAT)\n",
    "\n",
    "# Build list of reservations (in this case there is only one reservation)\n",
    "reservation_list = []\n",
    "#chi.lease.add_node_reservation(reservation_list, count=chameleon_server_count, node_type=chameleon_node_type)\n",
    "#chi.lease.add_fip_reservation(reservation_list, count=2)\n",
    "\n",
    "reservation_list.append(\n",
    "        {\n",
    "            \"resource_type\": \"network\",\n",
    "            \"network_name\": chameleon_network_name,\n",
    "            \"network_properties\": \"\",\n",
    "            \"resource_properties\": json.dumps(\n",
    "                [\"==\", \"$stitch_provider\", chameleon_stitch_provider]\n",
    "            ),\n",
    "        }\n",
    ")\n",
    "\n",
    "# Create the lease\n",
    "chameleon_lease = chi.lease.create_lease(chameleon_lease_name,\n",
    "                                  reservations=reservation_list,\n",
    "                                  start_date=start_date,\n",
    "                                  end_date=end_date)\n",
    "    \n",
    "#Print the lease info\n",
    "#print(json.dumps(chameleon_lease, indent=2))\n",
    "#chameleon_compute_reservation_id = [reservation for reservation in chameleon_lease['reservations'] if reservation['resource_type'] == 'physical:host'][0]['id']\n",
    "chameleon_network_reservation_id = [reservation for reservation in chameleon_lease['reservations'] if reservation['resource_type'] == 'network'][0]['id']\n",
    "#chameleon_floatingip_reservation_id = [reservation for reservation in chameleon_lease['reservations'] if reservation['resource_type'] == 'virtual:floatingip'][0]['id']\n",
    "\n",
    "#print(f\"chameleon_compute_reservation_id: {chameleon_compute_reservation_id}\")\n",
    "print(f\"chameleon_network_reservation_id: {chameleon_network_reservation_id}\")\n",
    "#print(f\"chameleon_floatingip_reservation_id: {chameleon_floatingip_reservation_id}\")"
   ]
  },
  {
   "cell_type": "markdown",
   "metadata": {
    "pycharm": {
     "name": "#%% md\n"
    }
   },
   "source": [
    "#### Get the Network\n",
    "\n",
    "Getting the network is not required for the remainder of the tutorial. However, it is a good test to see if your network reservation has become active. The [get_network_by_name](../modules-python/network/get_network_by_name.ipynb) call will fail if a network with that name does not yet exits. It will also fail if a network with the same name already exists (likely from a previous run of this notebook)."
   ]
  },
  {
   "cell_type": "code",
   "execution_count": null,
   "metadata": {
    "jupyter": {
     "outputs_hidden": false
    },
    "pycharm": {
     "name": "#%%\n"
    }
   },
   "outputs": [],
   "source": [
    "network_vlan = None\n",
    "while network_vlan == None:\n",
    "    try:\n",
    "        #Get the network\n",
    "        chameleon_network = chi.network.get_network(chameleon_network_name)\n",
    "\n",
    "        #Get the network ID\n",
    "        chameleon_network_id = chameleon_network['id']\n",
    "        print(f'Chameleon Network ID: {chameleon_network_id}')\n",
    "\n",
    "        #Get the VLAN tag (needed for FABRIC stitching)\n",
    "        network_vlan = chameleon_network['provider:segmentation_id']\n",
    "        print(f'network_vlan: {network_vlan}')\n",
    "    except:\n",
    "        print(f'Chameleon Network is not ready. Trying again!')\n",
    "        time.sleep(10)           "
   ]
  },
  {
   "cell_type": "markdown",
   "metadata": {
    "pycharm": {
     "name": "#%% md\n"
    }
   },
   "source": [
    "#### Add a subnet to the reserved network"
   ]
  },
  {
   "cell_type": "code",
   "execution_count": null,
   "metadata": {
    "jupyter": {
     "outputs_hidden": false
    },
    "pycharm": {
     "name": "#%%\n"
    }
   },
   "outputs": [],
   "source": [
    "chameleon_subnet = chi.network.create_subnet(chameleon_subnet_name, chameleon_network_id, \n",
    "                                             cidr=str(subnet),\n",
    "                                             allocation_pool_start=chameleon_allocation_pool_start,\n",
    "                                             allocation_pool_end=chameleon_allocation_pool_end,\n",
    "                                             gateway_ip=chameleon_gateway_ip)\n",
    "\n",
    "print(json.dumps(chameleon_subnet, indent=2))"
   ]
  },
  {
   "cell_type": "markdown",
   "metadata": {
    "pycharm": {
     "name": "#%% md\n"
    }
   },
   "source": [
    "#### Add a Router"
   ]
  },
  {
   "cell_type": "code",
   "execution_count": null,
   "metadata": {
    "jupyter": {
     "outputs_hidden": false
    },
    "pycharm": {
     "name": "#%%\n"
    }
   },
   "outputs": [],
   "source": [
    "chameleon_router = chi.network.create_router(chameleon_router_name, gw_network_name='public')\n",
    "\n",
    "print(json.dumps(chameleon_router, indent=2))"
   ]
  },
  {
   "cell_type": "markdown",
   "metadata": {
    "pycharm": {
     "name": "#%% md\n"
    }
   },
   "source": [
    "#### Attach the Router and Subnet"
   ]
  },
  {
   "cell_type": "code",
   "execution_count": null,
   "metadata": {
    "jupyter": {
     "outputs_hidden": false
    },
    "pycharm": {
     "name": "#%%\n"
    }
   },
   "outputs": [],
   "source": [
    "chi.network.add_subnet_to_router_by_name(chameleon_router_name, chameleon_subnet_name)"
   ]
  },
  {
   "cell_type": "markdown",
   "metadata": {},
   "source": [
    "## Create FABRIC Node and Link"
   ]
  },
  {
   "cell_type": "code",
   "execution_count": null,
   "metadata": {},
   "outputs": [],
   "source": [
    "try:\n",
    "    #network_vlan = str(3307)\n",
    "    \n",
    "    #Create a slice\n",
    "    fabric_slice = fablib.new_slice(name=fabric_slice_name)\n",
    "    \n",
    "    fabric_node = fabric_slice.add_node(name=fabric_node_name, site=fabric_site, image=fabric_node_image,\n",
    "                                       cores=2, ram=8, disk=10)\n",
    "    #fabric_node.add_component(model='NVME_P4510', name='nvme1')\n",
    "\n",
    "    fabric_node_iface = fabric_node.add_component(model='NIC_Basic', name=f\"nicCham\").get_interfaces()[0]\n",
    "    #fabric_node_fabnet_iface = fabric_node.add_component(model='NIC_Basic', name=f\"nicFabnet\").get_interfaces()[0]\n",
    "    #[fabric_node_iface,fabric_node_fabnet_iface] =  fabric_node.add_component(model='NIC_ConnectX_5', name=f\"nic1\").get_interfaces()\n",
    "\n",
    "\n",
    "    fabric_facility_port = fabric_slice.add_facility_port(name='Chameleon-StarLight', site='STAR', vlan=str(network_vlan))\n",
    "    fabric_facility_port_iface = fabric_facility_port.get_interfaces()[0]\n",
    "\n",
    "    fabric_net = fabric_slice.add_l2network(name=f'net_facility_port', interfaces=[fabric_node_iface,fabric_facility_port_iface]) \n",
    "    \n",
    "    #fabric_fabnet = fabric_slice.add_l3network(name=f'net_fabnet', interfaces=[fabric_node_fabnet_iface], type='IPv4')\n",
    "\n",
    "\n",
    "    #Submit the Request\n",
    "    fabric_slice.submit()\n",
    "except Exception as e:\n",
    "    print(f\"Exception: {e}\")\n",
    "    traceback.print_exc()"
   ]
  },
  {
   "cell_type": "code",
   "execution_count": null,
   "metadata": {},
   "outputs": [],
   "source": [
    "try:\n",
    "    fabric_slice = fablib.get_slice(fabric_slice_name)\n",
    "    #fabric_slice.wait_jupyter()\n",
    "except Exception as e:\n",
    "    print(f\"Exception: {e}\")"
   ]
  },
  {
   "cell_type": "markdown",
   "metadata": {},
   "source": [
    "## Configure the FABRIC VM's IP Address"
   ]
  },
  {
   "cell_type": "code",
   "execution_count": null,
   "metadata": {},
   "outputs": [],
   "source": [
    "try:        \n",
    "    fabric_node = fabric_slice.get_node(name=fabric_node_name)   \n",
    "    \n",
    "    fabric_node_iface = fabric_node.get_interface(network_name=f'net_facility_port') \n",
    "    fabric_node_addr = fabric_available_ips.pop(0)\n",
    "    print(f\"fabric_node_addr: {fabric_node_addr}\")\n",
    "    fabric_node_iface.ip_addr_add(addr=fabric_node_addr, subnet=subnet)\n",
    "    \n",
    "    stdout, stderr = fabric_node.execute(f'ip addr show {fabric_node_iface.get_os_interface()}')\n",
    "    print (stdout)\n",
    "except Exception as e:\n",
    "    print(f\"Exception: {e}\")"
   ]
  },
  {
   "cell_type": "code",
   "execution_count": null,
   "metadata": {},
   "outputs": [],
   "source": [
    "try:\n",
    "    net_fabnet = fabric_slice.get_network(name=f'net_facility_port')\n",
    "    net_fabnet_available_ips = net_fabnet.get_available_ips()\n",
    "    print(f\"{net_fabnet}\")\n",
    "    \n",
    "    fabric_node = fabric_slice.get_node(name=fabric_node_name)        \n",
    "    fabric_node_iface = fabric_node.get_interface(network_name=f'net_facility_port')  \n",
    "    fabric_node_addr = net_fabnet_available_ips.pop(0)\n",
    "    fabric_node_iface.ip_addr_add(addr=fabric_node_addr, subnet=net_fabnet.get_subnet())\n",
    "    \n",
    "    #node1.ip_route_add(subnet=network2.get_subnet(), gateway=network1.get_gateway())\n",
    "    \n",
    "    #stdout, stderr = node1.execute(f'ip addr show {node1_iface.get_os_interface()}')\n",
    "    #print (stdout)\n",
    "    \n",
    "    #stdout, stderr = node1.execute(f'ip route list')\n",
    "    #print (stdout)\n",
    "except Exception as e:\n",
    "    print(f\"Exception: {e}\")"
   ]
  },
  {
   "cell_type": "markdown",
   "metadata": {},
   "source": [
    "## (Optional) Test the Link\n",
    "\n",
    "We can test the facility port link by pinging the Chameleon gateway IP from the FABRIC VM."
   ]
  },
  {
   "cell_type": "code",
   "execution_count": null,
   "metadata": {},
   "outputs": [],
   "source": [
    "try:\n",
    "    fabric_node = fabric_slice.get_node(name=fabric_node_name)     \n",
    "    fabric_node_iface = fabric_node.get_interface(network_name=f'net_facility_port') \n",
    "\n",
    "    stdout, stderr = fabric_node.execute(f'ping -c 5  {chameleon_gateway_ip}')\n",
    "\n",
    "    #stdout, stderr = fabric_node.execute(f'ping -c 5 192.168.100.106')\n",
    "    print (stdout)\n",
    "    print (stderr)\n",
    "    \n",
    "except Exception as e:\n",
    "    print(f\"Exception: {e}\")"
   ]
  },
  {
   "cell_type": "markdown",
   "metadata": {
    "pycharm": {
     "name": "#%% md\n"
    }
   },
   "source": [
    "## Start Chameleon Servers"
   ]
  },
  {
   "cell_type": "code",
   "execution_count": null,
   "metadata": {
    "tags": []
   },
   "outputs": [],
   "source": [
    "try:\n",
    "    fabric_node = fabric_slice.get_node(name=fabric_node_name)   \n",
    "    \n",
    "    #nvme1 = fabric_node.get_component('nvme1')\n",
    "    #nvme1.configure_nvme()\n",
    "\n",
    "    \n",
    "    stdout, stderr = fabric_node.execute('echo Hello, FABRIC from node `hostname -s`')\n",
    "    print(stdout)\n",
    "\n",
    "    stdout, stderr = fabric_node.execute('sudo apt-get -y -q update && sudo apt-get -y -q install python3 python3-pip swift python3-openstackclient apache2')\n",
    "    print(stdout)\n",
    "\n",
    "    stdout, stderr = fabric_node.execute('pip3 install python-swiftclient ')\n",
    "    print(stdout)\n",
    "\n",
    "    fabric_node.upload_file('swift_get.sh','swift_get.sh')\n",
    "    fabric_node.upload_file('swift_put.sh','swift_put.sh')\n",
    "    fabric_node.upload_file('swift_list.sh','swift_list.sh')\n",
    "    fabric_node.upload_file('CH-822154-openrc.sh','CH-822154-openrc.sh')\n",
    "    \n",
    "    fabric_node.ip_route_add(subnet=IPv4Network(\"192.5.87.2/32\") , gateway=IPv4Address(chameleon_gateway_ip))\n",
    "    \n",
    "    #10.129.128.0/17 via  10.133.1.1  (Router to all other FABnet subnets\n",
    "    fabric_node.ip_route_add(subnet=IPv4Network(\"10.128.0.0/12\") , gateway=net_fabnet.get_gateway())\n",
    "\n",
    "except Exception as e:\n",
    "    print(f\"Exception: {e}\")"
   ]
  },
  {
   "cell_type": "code",
   "execution_count": null,
   "metadata": {},
   "outputs": [],
   "source": [
    "try:\n",
    "    \n",
    "    stdout,stderr = fabric_node.execute('sudo systemctl start apache2')\n",
    "    print(stdout)\n",
    "    print(stderr)    \n",
    "    \n",
    "    stdout,stderr = fabric_node.execute('chmod +x *.sh && export PATH=$PATH:/home/ubuntu/.local/bin && source CH-822154-openrc.sh && ./swift_list.sh')\n",
    "    print(stdout)\n",
    "    print(stderr)\n",
    "    \n",
    "    #openstack container save pruth-container\n",
    "\n",
    "    #stdout,stderr = fabric_node.execute('sudo chown -R ubuntu /var/www && chmod +x *.sh && export PATH=$PATH:/home/ubuntu/.local/bin && source CH-822154-openrc.sh && cd /var/www/html && ~/swift_get.sh pruth-container files/file.25G')\n",
    "    #print(stdout)\n",
    "    #print(stderr)    \n",
    "    \n",
    "   \n",
    "except Exception as e:\n",
    "    print(f\"Exception: {e}\")    \n",
    "    "
   ]
  },
  {
   "cell_type": "code",
   "execution_count": null,
   "metadata": {
    "jupyter": {
     "outputs_hidden": false
    },
    "pycharm": {
     "name": "#%%\n"
    }
   },
   "outputs": [],
   "source": [
    "#import chi.server\n",
    "for i in range(chameleon_server_count):\n",
    "    server_name=f\"{chameleon_server_name}_{i}\"\n",
    "    # Create the server\n",
    "    server = chi.server.create_server(server_name, \n",
    "                                  reservation_id=chameleon_compute_reservation_id, \n",
    "                                  network_name=chameleon_network_name, \n",
    "                                  image_name=chameleon_image_name,\n",
    "                                  key_name=chameleon_key_name\n",
    "                                 )\n",
    "# Wait until the server is active\n",
    "#chi.server.wait_for_active(server.id)"
   ]
  },
  {
   "cell_type": "markdown",
   "metadata": {},
   "source": [
    "## Get the Chameleon Server Fixed IPs"
   ]
  },
  {
   "cell_type": "code",
   "execution_count": null,
   "metadata": {},
   "outputs": [],
   "source": [
    "#get fixed ips\n",
    "fixed_ips={}\n",
    "for i in range(chameleon_server_count):\n",
    "    server_name=f\"{chameleon_server_name}_{i}\"\n",
    "    server_id = get_server_id(server_name)\n",
    "    fixed_ip = get_server(server_id).interface_list()[0].to_dict()[\"fixed_ips\"][0][\"ip_address\"]\n",
    "    fixed_ips[server_name]=fixed_ip\n",
    "\n",
    "for server_name,fixed_ip in fixed_ips.items():\n",
    "    print(f'{server_name}: {fixed_ip}')"
   ]
  },
  {
   "cell_type": "markdown",
   "metadata": {},
   "source": [
    "## Test the Link by Pinging All Chameleon Nodes"
   ]
  },
  {
   "cell_type": "code",
   "execution_count": null,
   "metadata": {},
   "outputs": [],
   "source": [
    "for server_name,fixed_ip in fixed_ips.items():\n",
    "    print(f'{server_name}: {fixed_ip}')\n",
    "    \n",
    "    stdout, stderr = fabric_node.execute(f'ping -c 5 {fixed_ip}')\n",
    "    print (stdout)\n",
    "    print (stderr)"
   ]
  },
  {
   "cell_type": "markdown",
   "metadata": {
    "pycharm": {
     "name": "#%% md\n"
    }
   },
   "source": [
    "# Clean Up \n",
    "\n",
    "## Delete Chameleon Resources\n",
    "\n",
    "Delete the servers"
   ]
  },
  {
   "cell_type": "code",
   "execution_count": null,
   "metadata": {
    "jupyter": {
     "outputs_hidden": false
    },
    "pycharm": {
     "name": "#%%\n"
    }
   },
   "outputs": [],
   "source": [
    "for i in range(chameleon_server_count):\n",
    "    server_name=f\"{chameleon_server_name}_{i}\"\n",
    "    chi.server.delete_server(get_server_id(server_name))"
   ]
  },
  {
   "cell_type": "markdown",
   "metadata": {
    "pycharm": {
     "name": "#%% md\n"
    }
   },
   "source": [
    "#### De-configure Network"
   ]
  },
  {
   "cell_type": "code",
   "execution_count": null,
   "metadata": {
    "jupyter": {
     "outputs_hidden": false
    },
    "pycharm": {
     "name": "#%%\n"
    }
   },
   "outputs": [],
   "source": [
    "router_id = chameleon_router['id']\n",
    "subnet_id = chameleon_subnet['id']\n",
    "network_id = chameleon_network_id\n",
    "\n",
    "try:\n",
    "    result = chi.network.remove_subnet_from_router(router_id, subnet_id)\n",
    "except Exception as e:\n",
    "    print(f\"detach_router_by_name error: {str(e)}\")\n",
    "    pass\n",
    "\n",
    "try:\n",
    "    result = chi.network.delete_router(router_id)\n",
    "except Exception as e:\n",
    "    print(f\"delete_router_by_name error: {str(e)}\")\n",
    "    pass\n",
    "\n",
    "try:\n",
    "    result = chi.network.delete_subnet(subnet_id)\n",
    "except Exception as e:\n",
    "    print(f\"delete_subnet_by_name error: {str(e)}\")\n",
    "    pass\n",
    "\n",
    "try:\n",
    "    result = chi.network.delete_network(network_id)\n",
    "except Exception as e:\n",
    "    print(f\"delete_network_by_name error: {str(e)}\")\n",
    "    pass"
   ]
  },
  {
   "cell_type": "markdown",
   "metadata": {
    "pycharm": {
     "name": "#%% md\n"
    }
   },
   "source": [
    "## Release Lease"
   ]
  },
  {
   "cell_type": "code",
   "execution_count": null,
   "metadata": {
    "jupyter": {
     "outputs_hidden": false
    },
    "pycharm": {
     "name": "#%%\n"
    }
   },
   "outputs": [],
   "source": [
    "chi.lease.delete_lease(chameleon_lease['id'])"
   ]
  },
  {
   "cell_type": "markdown",
   "metadata": {},
   "source": [
    "## Delete FABRIC Slice"
   ]
  },
  {
   "cell_type": "code",
   "execution_count": null,
   "metadata": {},
   "outputs": [],
   "source": [
    "try:\n",
    "    fabric_slice = fablib.get_slice(fabric_slice_name)\n",
    "    fabric_slice.delete()\n",
    "except Exception as e:\n",
    "    print(f\"Exception: {e}\")"
   ]
  },
  {
   "cell_type": "code",
   "execution_count": null,
   "metadata": {},
   "outputs": [],
   "source": []
  },
  {
   "cell_type": "code",
   "execution_count": null,
   "metadata": {},
   "outputs": [],
   "source": []
  }
 ],
 "metadata": {
  "kernelspec": {
   "display_name": "Python 3 (ipykernel)",
   "language": "python",
   "name": "python3"
  },
  "language_info": {
   "codemirror_mode": {
    "name": "ipython",
    "version": 3
   },
   "file_extension": ".py",
   "mimetype": "text/x-python",
   "name": "python",
   "nbconvert_exporter": "python",
   "pygments_lexer": "ipython3",
   "version": "3.9.7"
  }
 },
 "nbformat": 4,
 "nbformat_minor": 4
}
