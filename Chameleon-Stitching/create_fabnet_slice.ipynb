{
 "cells": [
  {
   "cell_type": "markdown",
   "metadata": {
    "pycharm": {
     "name": "#%% md\n"
    }
   },
   "source": [
    "##  Chameleon/FABRIC L3 Stitching\n",
    "\n",
    "This notebook demonstrates how to stitch Chameleon experiments to FABRIC."
   ]
  },
  {
   "cell_type": "markdown",
   "metadata": {},
   "source": [
    "### Set Chameleon Environment\n",
    "\n",
    "FABRIC should already be configured in your Jupyter environment. If this is your first time using FABRIC, may need to follow the [Configure Environment](./fabric_examples/fablib_api/configure_environment/configure_environment.ipynb) notebook to complete the configuration.\n",
    "\n",
    "Set the following environment vars to the values found in your custom Chameleon-openrc.sh file. You can obtain your Chameleon-openrc.sh from Chameleon using these [directions](https://chameleoncloud.readthedocs.io/en/latest/technical/cli.html#the-openstack-rc-script).  The expected password is not your regular Chameleon password. Instead, you need to create a Chameleon CLI password by following these [directions](https://chameleoncloud.readthedocs.io/en/latest/technical/cli.html#cli-authentication)"
   ]
  },
  {
   "cell_type": "code",
   "execution_count": null,
   "metadata": {},
   "outputs": [],
   "source": [
    "import os\n",
    "import sys\n",
    "\n",
    "module_path = os.path.abspath(os.path.join(f\"{os.environ['HOME']}/work/PRUTH-FABRIC-Examples/fablib_local\"))\n",
    "if module_path not in sys.path:\n",
    "    sys.path.append(module_path)\n",
    "    \n",
    "from chameleon_utils.chameleon_config import *\n",
    "load_chameleon_rc_environment(chameleon_rc_file=f\"{os.environ['HOME']}/work/fablib_local_private_config/Chameleon-openrc.sh\")\n",
    "\n",
    "    \n",
    "from fablib_custom.fablib_custom import *\n",
    "from fablib_common_utils.utils import *\n",
    "from fablib_common_utils.fabric_fabnet_slice import *\n",
    "\n",
    "from chameleon_utils.chameleon_stitching import *\n",
    "from chameleon_utils.chameleon_servers import *\n",
    "from chameleon_utils.chameleon_leases import *\n"
   ]
  },
  {
   "cell_type": "markdown",
   "metadata": {},
   "source": [
    "Pick a name for the Chameleon and FABRIC resources. A common issue you might encounter is using a name that is already used on Chameleon. One suggestion is to embedded the date/time in the name to increase the likelyhood that the name is unique."
   ]
  },
  {
   "cell_type": "code",
   "execution_count": null,
   "metadata": {},
   "outputs": [],
   "source": [
    "time_stamp = datetime.now(tz=tz.tzutc()).strftime('%Y%m%d%H%M')\n",
    "\n",
    "site='UTAH'\n",
    "\n",
    "slice_name=f\"pruth_fabnet_{site}_{time_stamp}\"\n",
    "\n",
    "print(f'time_stamp: {time_stamp}')"
   ]
  },
  {
   "cell_type": "markdown",
   "metadata": {},
   "source": [
    "## Add Nodes to FABRIC"
   ]
  },
  {
   "cell_type": "code",
   "execution_count": null,
   "metadata": {},
   "outputs": [],
   "source": [
    "slice = create_fabnet_slice(name=slice_name, node_count=1, sites=[site], cores=4, ram=16, disk=500)"
   ]
  },
  {
   "cell_type": "markdown",
   "metadata": {},
   "source": [
    "## Do something with the Nodes"
   ]
  },
  {
   "cell_type": "code",
   "execution_count": null,
   "metadata": {},
   "outputs": [],
   "source": [
    "threads = []\n",
    "for node in slice.get_nodes():\n",
    "    threads.append(node.execute_thread(f'ping -c 5  10.132.1.1'))\n",
    "    \n",
    "for thread in threads:\n",
    "    stdout, stderr = thread.result()\n",
    "    print(stdout)\n",
    "    print(stderr)"
   ]
  },
  {
   "cell_type": "code",
   "execution_count": null,
   "metadata": {},
   "outputs": [],
   "source": [
    "for node in slice.get_nodes():\n",
    "    \n",
    "    node.upload_directory('node_utils', '.')\n",
    "    \n",
    "    command = 'chmod +x node_utils/*.sh && sudo ./node_utils/host_network_tune.sh'\n",
    "    stdout, stderr = node.execute(command)\n",
    "    print(stdout)\n",
    "    print(stderr)\n",
    "    \n",
    "    #stdout, stderr = node.execute(f'ping -c 5 10.129.129.1')\n",
    "    #print(stdout)\n",
    "    #print(stderr)\n",
    "    #stdout, stderr = node.execute(f'ping -c 5 10.129.129.250')\n",
    "    #print(stdout)\n",
    "    #print(stderr)\n",
    "    #for server_name,fixed_ip in fixed_ips.items():\n",
    "    #    print(f'---- {node.get_name()} -> {server_name} {fixed_ip}---')\n",
    "    #    stdout, stderr = node.execute(f'ping -c 5 {fixed_ip}')    \n",
    "    #    print(stdout)\n",
    "    #    print(stderr)"
   ]
  },
  {
   "cell_type": "code",
   "execution_count": null,
   "metadata": {},
   "outputs": [],
   "source": [
    "private_key='/home/fabric/work/fablib_local_private_config/my_chameleon_key'\n",
    "server_ip = '10.129.129.23'\n",
    "\n",
    "\n",
    "for node in slice.get_nodes():\n",
    "\n",
    "    #for file_name in [ 'file.100G', 'file.10G', 'file.25G', 'file.50G', 'file.75G']:\n",
    "    for file_name in [ 'file.50G' ]:\n",
    "        command = f'curl -o {file_name} http://{server_ip}/{file_name}'\n",
    "\n",
    "        print(command)\n",
    "        stdout, stderr = node.execute(command)\n",
    "        print(stdout)\n",
    "        print(stderr)"
   ]
  },
  {
   "cell_type": "markdown",
   "metadata": {
    "pycharm": {
     "name": "#%% md\n"
    }
   },
   "source": [
    "# Clean Up "
   ]
  },
  {
   "cell_type": "code",
   "execution_count": null,
   "metadata": {},
   "outputs": [],
   "source": [
    "try:\n",
    "    slice.delete()\n",
    "\n",
    "    #fablib.show_config()\n",
    "    #fablib.delete_all()\n",
    "except Exception as e:\n",
    "    print(f\"Exception: {e}\") "
   ]
  },
  {
   "cell_type": "code",
   "execution_count": null,
   "metadata": {},
   "outputs": [],
   "source": [
    "try:\n",
    "    fablib = fablib_manager()\n",
    "\n",
    "    #fablib.show_config()\n",
    "    #fablib.delete_all()\n",
    "except Exception as e:\n",
    "    print(f\"Exception: {e}\") "
   ]
  },
  {
   "cell_type": "code",
   "execution_count": null,
   "metadata": {},
   "outputs": [],
   "source": []
  }
 ],
 "metadata": {
  "kernelspec": {
   "display_name": "Python 3 (ipykernel)",
   "language": "python",
   "name": "python3"
  },
  "language_info": {
   "codemirror_mode": {
    "name": "ipython",
    "version": 3
   },
   "file_extension": ".py",
   "mimetype": "text/x-python",
   "name": "python",
   "nbconvert_exporter": "python",
   "pygments_lexer": "ipython3",
   "version": "3.9.7"
  }
 },
 "nbformat": 4,
 "nbformat_minor": 4
}
