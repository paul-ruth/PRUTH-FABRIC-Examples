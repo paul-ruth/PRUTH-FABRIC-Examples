{
 "cells": [
  {
   "cell_type": "markdown",
   "metadata": {},
   "source": [
    "# Routing Topology: OSPF using FRRouting with Chameleon\n",
    "\n",
    "This notebook is an example of how to create a FABRIC routing experiment topology comprising nodes at three different sites. Each site has a local layer 2 (Ethernet) network connecting a set of local nodes and one gateway router. The three gateway routers connect to each other and use the [FRRouting](https://frrouting.org/) protocol suite to deploy [OSPF](https://en.wikipedia.org/wiki/Open_Shortest_Path_First) dameons to propagate route updates across the topology.\n",
    "\n",
    "You might be familiar with the [Quagga](https://www.quagga.net/) router suite.  FRRouting is based on Quagga but has a more active upstream community including many large companies working on cloud networking.\n",
    "\n",
    "\n",
    "## Configure the Environment\n"
   ]
  },
  {
   "cell_type": "code",
   "execution_count": 1,
   "metadata": {},
   "outputs": [
    {
     "ename": "SyntaxError",
     "evalue": "invalid syntax (frrouting_experiment.py, line 1184)",
     "output_type": "error",
     "traceback": [
      "Traceback \u001b[0;36m(most recent call last)\u001b[0m:\n",
      "  File \u001b[1;32m\"/opt/conda/lib/python3.9/site-packages/IPython/core/interactiveshell.py\"\u001b[0m, line \u001b[1;32m3444\u001b[0m, in \u001b[1;35mrun_code\u001b[0m\n    exec(code_obj, self.user_global_ns, self.user_ns)\n",
      "\u001b[0;36m  File \u001b[0;32m\"/tmp/ipykernel_7274/2202197770.py\"\u001b[0;36m, line \u001b[0;32m13\u001b[0;36m, in \u001b[0;35m<module>\u001b[0;36m\u001b[0m\n\u001b[0;31m    from my_experiment.frrouting_experiment import FRRouting_Experiment\u001b[0m\n",
      "\u001b[0;36m  File \u001b[0;32m\"/home/fabric/work/PRUTH-FABRIC-Examples/SC22/FRRoutingV3/my_experiment/frrouting_experiment.py\"\u001b[0;36m, line \u001b[0;32m1184\u001b[0m\n\u001b[0;31m    ex_router = self.get_ex_router(network['name']):\u001b[0m\n\u001b[0m                                                   ^\u001b[0m\n\u001b[0;31mSyntaxError\u001b[0m\u001b[0;31m:\u001b[0m invalid syntax\n"
     ]
    }
   ],
   "source": [
    "import os\n",
    "import sys\n",
    "\n",
    "module_path = os.path.abspath(os.path.join(f\"{os.environ['HOME']}/work/PRUTH-FABRIC-Examples/fablib_local\"))\n",
    "if module_path not in sys.path:\n",
    "    sys.path.append(module_path)\n",
    "from fablib_custom.fablib_custom import *\n",
    "\n",
    "from chameleon_utils.chameleon_config import *\n",
    "\n",
    "load_chameleon_rc_environment(chameleon_rc_file=f\"{os.environ['HOME']}/work/fablib_local_private_config/Chameleon-openrc.sh\")\n",
    "\n",
    "from my_experiment.frrouting_experiment import FRRouting_Experiment\n"
   ]
  },
  {
   "cell_type": "markdown",
   "metadata": {},
   "source": [
    "## Create the Experiment\n"
   ]
  },
  {
   "cell_type": "code",
   "execution_count": null,
   "metadata": {},
   "outputs": [],
   "source": [
    "import json\n",
    "ffr_config = {\n",
    "    'networks' : [ {'name': 'dall', \n",
    "                    'site': 'DALL', \n",
    "                    'subnet': '192.168.1.0/24',\n",
    "                    'router' : {   'name': 'dall_router', \n",
    "                                   'facility': 'FABRIC',\n",
    "                                   'network': 'dall', \n",
    "                                   'ip': '192.168.1.1', \n",
    "                                   'cores': '8', 'ram': '32', 'disk': '10',\n",
    "                                   'static_routes': [ ] }\n",
    "                   }, \n",
    "                    \n",
    "                   {'name': 'salt', \n",
    "                    'site': 'SALT',  \n",
    "                    'subnet': '192.168.3.0/24',\n",
    "                    'router' : {   'name': 'salt_router', \n",
    "                                   'facility': 'FABRIC',\n",
    "                                   'network': 'dall', \n",
    "                                   'ip': '192.168.2.1', \n",
    "                                   'cores': '8', 'ram': '32', 'disk': '10',\n",
    "                                   'static_routes': [ ] }\n",
    "                   },         \n",
    "                  #'wash': { 'site': 'WASH', 'facility': 'FABRIC' },\n",
    "                  #'utah': { 'site': 'UTAH', 'facility': 'FABRIC' }\n",
    "                    ],\n",
    "\n",
    "\n",
    "    'links': [ {'name': 'link1', \n",
    "                'subnet': '192.168.100.0/24',\n",
    "                'endpoints': ({'router_name': 'dall_router', 'ip': '192.168.100.1' }, \n",
    "                              {'router_name': 'salt_router', 'ip': '192.168.100.2' }) \n",
    "               } ,\n",
    "                  #'link2': ('salt','wash'),\n",
    "                  #'link3': ('wash','dall'),\n",
    "                  #'link4': ('utah','salt')\n",
    "                 ],\n",
    "\n",
    "    'nodes' : [ {      'name': 'node1', \n",
    "                       'facility': 'FABRIC',\n",
    "                       'network': 'dall', \n",
    "                       'ip': '192.168.1.100', \n",
    "                       'cores': '8', 'ram': '32', 'disk': '10',\n",
    "                       'static_routes': [ ('192.168.0.0/16','192.168.1.1') ] },\n",
    "                   \n",
    "                    {  'name': 'node2', \n",
    "                       'facility': 'FABRIC',\n",
    "                       'network': 'salt', \n",
    "                       'ip': '192.168.2.100', \n",
    "                       'cores': '8', 'ram': '32', 'disk': '10',\n",
    "                       'static_routes': [ ('192.168.0.0/16', '192.168.2.1') ] }, \n",
    "                  ]\n",
    "}\n",
    "\n",
    "#print(f\"{list(map(lambda x: x['name'], ffr_config['links']))}\")\n",
    "\n",
    "#print(f\"{json.dumps(ffr_config, indent = 4)}\")\n",
    "            \n",
    "frr_experiment = FRRouting_Experiment('FRRouting_OSPF_SC22', config=ffr_config)"
   ]
  },
  {
   "cell_type": "markdown",
   "metadata": {
    "tags": []
   },
   "source": [
    "## (Optional): Query for Available Tesbed Resources and Settings"
   ]
  },
  {
   "cell_type": "code",
   "execution_count": null,
   "metadata": {},
   "outputs": [],
   "source": [
    "try:\n",
    "    frr_experiment.list_sites()\n",
    "except Exception as e:\n",
    "    print(f\"Exception: {e}\")"
   ]
  },
  {
   "cell_type": "markdown",
   "metadata": {},
   "source": [
    "## Define Experiment\n",
    "\n",
    "The following creates private layer 2 networks on three sites including a OSPF gateway routers that propogate routes acrross the topology. \n"
   ]
  },
  {
   "cell_type": "code",
   "execution_count": null,
   "metadata": {},
   "outputs": [],
   "source": [
    "frr_experiment.configure()"
   ]
  },
  {
   "cell_type": "code",
   "execution_count": null,
   "metadata": {},
   "outputs": [],
   "source": [
    "frr_experiment.deploy()"
   ]
  },
  {
   "cell_type": "markdown",
   "metadata": {},
   "source": [
    "## Run the GUI and Interact with the Experiment"
   ]
  },
  {
   "cell_type": "code",
   "execution_count": null,
   "metadata": {},
   "outputs": [],
   "source": [
    "#frr_experiment.load()\n",
    "#print(f\"here\")\n",
    "frr_experiment.display()\n"
   ]
  },
  {
   "cell_type": "markdown",
   "metadata": {},
   "source": [
    "## Step 9: Delete the Slice\n",
    "\n",
    "Please delete your slice when you are done with your experiment."
   ]
  },
  {
   "cell_type": "code",
   "execution_count": null,
   "metadata": {},
   "outputs": [],
   "source": [
    "try:\n",
    "    #frr_experiment.fablib.delete_all()\n",
    "    slice.delete()\n",
    "except Exception as e:\n",
    "    print(f\"Exception: {e}\")"
   ]
  },
  {
   "cell_type": "code",
   "execution_count": null,
   "metadata": {},
   "outputs": [],
   "source": [
    "\n",
    "\n",
    "\n",
    "\n",
    "\n",
    "\n",
    "\n",
    "\n",
    "\n",
    "\n",
    "\n",
    "\n",
    "\n",
    "\n",
    "\n",
    "\n",
    "\n",
    "\n",
    "\n",
    "\n",
    "\n",
    "\n",
    "\n",
    "\n",
    "\n",
    "\n",
    "\n"
   ]
  },
  {
   "cell_type": "code",
   "execution_count": null,
   "metadata": {},
   "outputs": [],
   "source": [
    "frr_experiment.execute_on_all_edge_nodes(\"rm *output\", verbose=True)"
   ]
  },
  {
   "cell_type": "code",
   "execution_count": null,
   "metadata": {},
   "outputs": [],
   "source": [
    "frr_experiment.execute_on_all_edge_nodes(\"ls\", verbose=True)\n"
   ]
  },
  {
   "cell_type": "code",
   "execution_count": null,
   "metadata": {},
   "outputs": [],
   "source": [
    "\n",
    "\n"
   ]
  },
  {
   "cell_type": "code",
   "execution_count": null,
   "metadata": {
    "tags": []
   },
   "outputs": [],
   "source": [
    "frr_sites = { 'dall': { 'site': 'DALL', 'facility': 'FABRIC', 'node_count': 2 },\n",
    "              'utah': { 'site': 'UTAH', 'facility': 'FABRIC', 'node_count': 2 },\n",
    "\n",
    "              'salt': { 'site': 'SALT', 'facility': 'FABRIC', 'node_count': 2 },\n",
    "              'wash': { 'site': 'WASH', 'facility': 'FABRIC', 'node_count': 2 },\n",
    "              'tacc': { 'site': 'TACC', 'facility': 'FABRIC', 'node_count': 2 },\n",
    "              'max':  { 'site': 'MAX', 'facility': 'FABRIC', 'node_count': 2 },\n",
    "              'ncsa': { 'site': 'NCSA', 'facility': 'FABRIC', 'node_count': 2 },\n",
    "              #'cham': { 'site': 'STAR', 'facility': 'CHI@UC', 'node_count': 2 },\n",
    "              'mich': { 'site': 'MICH', 'facility': 'FABRIC', 'node_count': 2 },\n",
    "\n",
    "            }\n",
    "    \n",
    "frr_links = { 'Link_dall_tacc': ('dall','tacc'),\n",
    "              'Link_mich_ncsa': ('mich','ncsa'),\n",
    "              'Link_salt_utah': ('salt','utah'),\n",
    "              'Link_wash_max':  ('wash','max'),\n",
    "              'Link_utah_dall': ('utah','dall'),\n",
    "              'Link_dall_wash': ('dall','wash'),\n",
    "              'Link_wash_mich': ('wash','mich'),\n",
    "              'Link_mich_utah': ('mich','utah'),\n",
    "              'Link_mich_dall': ('mich','dall'), \n",
    "            }"
   ]
  },
  {
   "cell_type": "code",
   "execution_count": null,
   "metadata": {},
   "outputs": [],
   "source": [
    "frr_experiment.wait_jupyter(timeout=20000)"
   ]
  },
  {
   "cell_type": "code",
   "execution_count": null,
   "metadata": {},
   "outputs": [],
   "source": [
    "frr_experiment.execute_on_all_edge_nodes(f'rm -rf fabric_node_tools')\n",
    "print('deploy3')\n",
    "frr_experiment.upload_directory_to_all_edge_nodes('fabric_node_tools','.')\n",
    "print('deploy4')\n",
    "frr_experiment.execute_on_all_edge_nodes(f'chmod +x fabric_node_tools/*.sh')\n",
    "print('deploy5')\n",
    "frr_experiment.configure_devs()\n",
    "print('deploy6')"
   ]
  },
  {
   "cell_type": "code",
   "execution_count": null,
   "metadata": {},
   "outputs": [],
   "source": [
    "frr_experiment.configure_routers()"
   ]
  },
  {
   "cell_type": "code",
   "execution_count": null,
   "metadata": {},
   "outputs": [],
   "source": [
    "print('deploy7')\n",
    "command = f'sudo yum install -y -q iperf3 iproute-tc && sudo ./fabric_node_tools/host_tune_redhat.sh'\n",
    "frr_experiment.execute_on_all_edge_nodes(f'{command}')\n",
    "print('deploy8')"
   ]
  },
  {
   "cell_type": "code",
   "execution_count": null,
   "metadata": {},
   "outputs": [],
   "source": [
    "\n",
    "\n"
   ]
  }
 ],
 "metadata": {
  "kernelspec": {
   "display_name": "Python 3 (ipykernel)",
   "language": "python",
   "name": "python3"
  },
  "language_info": {
   "codemirror_mode": {
    "name": "ipython",
    "version": 3
   },
   "file_extension": ".py",
   "mimetype": "text/x-python",
   "name": "python",
   "nbconvert_exporter": "python",
   "pygments_lexer": "ipython3",
   "version": "3.9.7"
  }
 },
 "nbformat": 4,
 "nbformat_minor": 4
}
