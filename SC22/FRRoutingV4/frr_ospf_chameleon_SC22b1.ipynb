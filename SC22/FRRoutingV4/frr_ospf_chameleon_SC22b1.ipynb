{
 "cells": [
  {
   "cell_type": "markdown",
   "metadata": {},
   "source": [
    "# Routing Topology: OSPF using FRRouting with Chameleon\n",
    "\n",
    "This notebook is an example of how to create a FABRIC routing experiment topology comprising nodes at three different sites. Each site has a local layer 2 (Ethernet) network connecting a set of local nodes and one gateway router. The three gateway routers connect to each other and use the [FRRouting](https://frrouting.org/) protocol suite to deploy [OSPF](https://en.wikipedia.org/wiki/Open_Shortest_Path_First) dameons to propagate route updates across the topology.\n",
    "\n",
    "You might be familiar with the [Quagga](https://www.quagga.net/) router suite.  FRRouting is based on Quagga but has a more active upstream community including many large companies working on cloud networking.\n",
    "\n",
    "\n",
    "## Configure the Environment\n"
   ]
  },
  {
   "cell_type": "code",
   "execution_count": 1,
   "metadata": {},
   "outputs": [],
   "source": [
    "import os\n",
    "import sys\n",
    "\n",
    "module_path = os.path.abspath(os.path.join(f\"{os.environ['HOME']}/work/PRUTH-FABRIC-Examples/fablib_local\"))\n",
    "if module_path not in sys.path:\n",
    "    sys.path.append(module_path)\n",
    "from fablib_custom.fablib_custom import *\n",
    "\n",
    "from chameleon_utils.chameleon_config import *\n",
    "\n",
    "load_chameleon_rc_environment(chameleon_rc_file=f\"{os.environ['HOME']}/work/fablib_local_private_config/Chameleon-openrc.sh\")\n",
    "\n",
    "from my_experiment.frrouting_experiment import FRRouting_Experiment\n"
   ]
  },
  {
   "cell_type": "markdown",
   "metadata": {},
   "source": [
    "## Create the Experiment\n"
   ]
  },
  {
   "cell_type": "code",
   "execution_count": 2,
   "metadata": {},
   "outputs": [],
   "source": [
    "import json\n",
    "  \n",
    "f = open('config/chameleon_four.json')\n",
    "ffr_config = json.load(f)\n",
    "f.close()\n",
    "\n",
    "frr_experiment = FRRouting_Experiment('FRRouting_OSPF_SC22', config=ffr_config)\n",
    "#print(f\"{json.dumps(ffr_config, indent = 4)}\")"
   ]
  },
  {
   "cell_type": "markdown",
   "metadata": {
    "tags": []
   },
   "source": [
    "## (Optional): Query for Available Tesbed Resources and Settings"
   ]
  },
  {
   "cell_type": "code",
   "execution_count": null,
   "metadata": {},
   "outputs": [],
   "source": [
    "try:\n",
    "    frr_experiment.list_sites()\n",
    "except Exception as e:\n",
    "    print(f\"Exception: {e}\")"
   ]
  },
  {
   "cell_type": "markdown",
   "metadata": {},
   "source": [
    "## Define Experiment\n",
    "\n",
    "The following creates private layer 2 networks on three sites including a OSPF gateway routers that propogate routes acrross the topology. \n"
   ]
  },
  {
   "cell_type": "code",
   "execution_count": null,
   "metadata": {},
   "outputs": [],
   "source": [
    "frr_experiment.configure()"
   ]
  },
  {
   "cell_type": "code",
   "execution_count": null,
   "metadata": {},
   "outputs": [],
   "source": [
    "frr_experiment.slice.list_nodes()"
   ]
  },
  {
   "cell_type": "code",
   "execution_count": null,
   "metadata": {},
   "outputs": [],
   "source": [
    "frr_experiment.save_config(path='run_data')"
   ]
  },
  {
   "cell_type": "code",
   "execution_count": 3,
   "metadata": {},
   "outputs": [
    {
     "name": "stdout",
     "output_type": "stream",
     "text": [
      "{\n",
      "    \"slice\": {},\n",
      "    \"networks\": [\n",
      "        {\n",
      "            \"name\": \"chameleon\",\n",
      "            \"site\": \"STAR\",\n",
      "            \"facility\": \"CHI@UC\",\n",
      "            \"subnet\": \"192.168.1.0/24\",\n",
      "            \"allocation_pool_start\": \"192.168.1.10\",\n",
      "            \"allocation_pool_end\": \"192.168.1.250\",\n",
      "            \"chameleon_gateway_ip\": \"192.168.1.2\",\n",
      "            \"router\": {\n",
      "                \"name\": \"chameleon_router\",\n",
      "                \"facility\": \"FABRIC\",\n",
      "                \"site\": \"MICH\",\n",
      "                \"network\": \"cham\",\n",
      "                \"ip\": \"192.168.1.1\",\n",
      "                \"cores\": \"8\",\n",
      "                \"ram\": \"32\",\n",
      "                \"disk\": \"10\",\n",
      "                \"static_routes\": []\n",
      "            }\n",
      "        },\n",
      "        {\n",
      "            \"name\": \"dall\",\n",
      "            \"site\": \"DALL\",\n",
      "            \"facility\": \"FABRIC\",\n",
      "            \"subnet\": \"192.168.2.0/24\",\n",
      "            \"router\": {\n",
      "                \"name\": \"dall_router\",\n",
      "                \"facility\": \"FABRIC\",\n",
      "                \"network\": \"dall\",\n",
      "                \"site\": \"DALL\",\n",
      "                \"ip\": \"192.168.2.1\",\n",
      "                \"cores\": \"8\",\n",
      "                \"ram\": \"32\",\n",
      "                \"disk\": \"10\",\n",
      "                \"static_routes\": []\n",
      "            }\n",
      "        },\n",
      "        {\n",
      "            \"name\": \"tacc\",\n",
      "            \"site\": \"TACC\",\n",
      "            \"facility\": \"FABRIC\",\n",
      "            \"subnet\": \"192.168.3.0/24\",\n",
      "            \"router\": {\n",
      "                \"name\": \"tacc_router\",\n",
      "                \"facility\": \"FABRIC\",\n",
      "                \"network\": \"tacc\",\n",
      "                \"site\": \"TACC\",\n",
      "                \"ip\": \"192.168.3.1\",\n",
      "                \"cores\": \"8\",\n",
      "                \"ram\": \"32\",\n",
      "                \"disk\": \"10\",\n",
      "                \"static_routes\": []\n",
      "            }\n",
      "        },\n",
      "        {\n",
      "            \"name\": \"utah\",\n",
      "            \"site\": \"UTAH\",\n",
      "            \"facility\": \"FABRIC\",\n",
      "            \"subnet\": \"192.168.4.0/24\",\n",
      "            \"router\": {\n",
      "                \"name\": \"utah_router\",\n",
      "                \"facility\": \"FABRIC\",\n",
      "                \"network\": \"utah\",\n",
      "                \"site\": \"UTAH\",\n",
      "                \"ip\": \"192.168.4.1\",\n",
      "                \"cores\": \"8\",\n",
      "                \"ram\": \"32\",\n",
      "                \"disk\": \"10\",\n",
      "                \"static_routes\": []\n",
      "            }\n",
      "        }\n",
      "    ],\n",
      "    \"links\": [\n",
      "        {\n",
      "            \"name\": \"link0\",\n",
      "            \"subnet\": \"192.168.100.0/24\",\n",
      "            \"endpoints\": [\n",
      "                {\n",
      "                    \"router_name\": \"dall_router\",\n",
      "                    \"ip\": \"192.168.100.1\"\n",
      "                },\n",
      "                {\n",
      "                    \"router_name\": \"chameleon_router\",\n",
      "                    \"ip\": \"192.168.100.2\"\n",
      "                }\n",
      "            ]\n",
      "        },\n",
      "        {\n",
      "            \"name\": \"link1\",\n",
      "            \"subnet\": \"192.168.101.0/24\",\n",
      "            \"endpoints\": [\n",
      "                {\n",
      "                    \"router_name\": \"dall_router\",\n",
      "                    \"ip\": \"192.168.101.1\"\n",
      "                },\n",
      "                {\n",
      "                    \"router_name\": \"utah_router\",\n",
      "                    \"ip\": \"192.168.101.2\"\n",
      "                }\n",
      "            ]\n",
      "        },\n",
      "        {\n",
      "            \"name\": \"link2\",\n",
      "            \"subnet\": \"192.168.102.0/24\",\n",
      "            \"endpoints\": [\n",
      "                {\n",
      "                    \"router_name\": \"utah_router\",\n",
      "                    \"ip\": \"192.168.102.1\"\n",
      "                },\n",
      "                {\n",
      "                    \"router_name\": \"chameleon_router\",\n",
      "                    \"ip\": \"192.168.102.2\"\n",
      "                }\n",
      "            ]\n",
      "        },\n",
      "        {\n",
      "            \"name\": \"link3\",\n",
      "            \"subnet\": \"192.168.103.0/24\",\n",
      "            \"endpoints\": [\n",
      "                {\n",
      "                    \"router_name\": \"tacc_router\",\n",
      "                    \"ip\": \"192.168.103.1\"\n",
      "                },\n",
      "                {\n",
      "                    \"router_name\": \"dall_router\",\n",
      "                    \"ip\": \"192.168.103.2\"\n",
      "                }\n",
      "            ]\n",
      "        }\n",
      "    ],\n",
      "    \"nodes\": [\n",
      "        {\n",
      "            \"name\": \"chameleon_node0\",\n",
      "            \"facility\": \"CHI@UC\",\n",
      "            \"compute_reservation_id\": \"b5f55afa-c78a-423f-a23e-ad5c7ff3bfa5\",\n",
      "            \"network\": \"chameleon\",\n",
      "            \"ip\": \"192.168.1.18\",\n",
      "            \"cores\": \"8\",\n",
      "            \"ram\": \"32\",\n",
      "            \"disk\": \"10\",\n",
      "            \"static_routes\": [\n",
      "                [\n",
      "                    \"192.168.0.0/16\",\n",
      "                    \"192.168.1.1\"\n",
      "                ]\n",
      "            ],\n",
      "            \"management_ip\": \"192.5.86.227\"\n",
      "        },\n",
      "        {\n",
      "            \"name\": \"chameleon_node1\",\n",
      "            \"facility\": \"CHI@UC\",\n",
      "            \"compute_reservation_id\": \"b5f55afa-c78a-423f-a23e-ad5c7ff3bfa5\",\n",
      "            \"network\": \"chameleon\",\n",
      "            \"ip\": \"192.168.1.244\",\n",
      "            \"cores\": \"8\",\n",
      "            \"ram\": \"32\",\n",
      "            \"disk\": \"10\",\n",
      "            \"static_routes\": [\n",
      "                [\n",
      "                    \"192.168.0.0/16\",\n",
      "                    \"192.168.1.1\"\n",
      "                ]\n",
      "            ],\n",
      "            \"management_ip\": \"192.5.87.210\"\n",
      "        },\n",
      "        {\n",
      "            \"name\": \"dall_node1\",\n",
      "            \"facility\": \"FABRIC\",\n",
      "            \"network\": \"dall\",\n",
      "            \"ip\": \"192.168.2.100\",\n",
      "            \"cores\": \"8\",\n",
      "            \"ram\": \"32\",\n",
      "            \"disk\": \"10\",\n",
      "            \"static_routes\": [\n",
      "                [\n",
      "                    \"192.168.0.0/16\",\n",
      "                    \"192.168.2.1\"\n",
      "                ]\n",
      "            ]\n",
      "        },\n",
      "        {\n",
      "            \"name\": \"dall_node2\",\n",
      "            \"facility\": \"FABRIC\",\n",
      "            \"network\": \"dall\",\n",
      "            \"ip\": \"192.168.2.101\",\n",
      "            \"cores\": \"8\",\n",
      "            \"ram\": \"32\",\n",
      "            \"disk\": \"10\",\n",
      "            \"static_routes\": [\n",
      "                [\n",
      "                    \"192.168.0.0/16\",\n",
      "                    \"192.168.2.1\"\n",
      "                ]\n",
      "            ]\n",
      "        },\n",
      "        {\n",
      "            \"name\": \"tacc_node1\",\n",
      "            \"facility\": \"FABRIC\",\n",
      "            \"network\": \"tacc\",\n",
      "            \"ip\": \"192.168.3.100\",\n",
      "            \"cores\": \"8\",\n",
      "            \"ram\": \"32\",\n",
      "            \"disk\": \"10\",\n",
      "            \"static_routes\": [\n",
      "                [\n",
      "                    \"192.168.0.0/16\",\n",
      "                    \"192.168.3.1\"\n",
      "                ]\n",
      "            ]\n",
      "        },\n",
      "        {\n",
      "            \"name\": \"tacc_node2\",\n",
      "            \"facility\": \"FABRIC\",\n",
      "            \"network\": \"tacc\",\n",
      "            \"ip\": \"192.168.3.101\",\n",
      "            \"cores\": \"8\",\n",
      "            \"ram\": \"32\",\n",
      "            \"disk\": \"10\",\n",
      "            \"static_routes\": [\n",
      "                [\n",
      "                    \"192.168.0.0/16\",\n",
      "                    \"192.168.3.1\"\n",
      "                ]\n",
      "            ]\n",
      "        },\n",
      "        {\n",
      "            \"name\": \"utah_node1\",\n",
      "            \"facility\": \"FABRIC\",\n",
      "            \"network\": \"utah\",\n",
      "            \"ip\": \"192.168.4.100\",\n",
      "            \"cores\": \"8\",\n",
      "            \"ram\": \"32\",\n",
      "            \"disk\": \"10\",\n",
      "            \"static_routes\": [\n",
      "                [\n",
      "                    \"192.168.0.0/16\",\n",
      "                    \"192.168.4.1\"\n",
      "                ]\n",
      "            ]\n",
      "        },\n",
      "        {\n",
      "            \"name\": \"utah_node2\",\n",
      "            \"facility\": \"FABRIC\",\n",
      "            \"network\": \"utah\",\n",
      "            \"ip\": \"192.168.4.101\",\n",
      "            \"cores\": \"8\",\n",
      "            \"ram\": \"32\",\n",
      "            \"disk\": \"10\",\n",
      "            \"static_routes\": [\n",
      "                [\n",
      "                    \"192.168.0.0/16\",\n",
      "                    \"192.168.4.1\"\n",
      "                ]\n",
      "            ]\n",
      "        }\n",
      "    ]\n",
      "}\n"
     ]
    }
   ],
   "source": [
    "frr_experiment.load(slice_name='FRRouting_OSPF_SC22', path='run_data')\n",
    "\n",
    "print(f\"{json.dumps(frr_experiment.config, indent=4)}\")"
   ]
  },
  {
   "cell_type": "code",
   "execution_count": null,
   "metadata": {},
   "outputs": [],
   "source": [
    "#frr_experiment.submit()"
   ]
  },
  {
   "cell_type": "code",
   "execution_count": null,
   "metadata": {},
   "outputs": [],
   "source": [
    "frr_experiment.deploy()"
   ]
  },
  {
   "cell_type": "markdown",
   "metadata": {},
   "source": [
    "## Run the GUI and Interact with the Experiment"
   ]
  },
  {
   "cell_type": "code",
   "execution_count": 4,
   "metadata": {},
   "outputs": [
    {
     "data": {
      "application/vnd.jupyter.widget-view+json": {
       "model_id": "0279688bf41245aebca254ba2db21faf",
       "version_major": 2,
       "version_minor": 0
      },
      "text/plain": [
       "VBox(children=(HBox(children=(CytoscapeWidget(cytoscape_layout={'name': 'cola'}, cytoscape_style=[{'selector':…"
      ]
     },
     "metadata": {},
     "output_type": "display_data"
    }
   ],
   "source": [
    "#frr_experiment.load()\n",
    "#print(f\"here\")\n",
    "frr_experiment.display()\n"
   ]
  },
  {
   "cell_type": "markdown",
   "metadata": {},
   "source": [
    "## Step 9: Delete the Slice\n",
    "\n",
    "Please delete your slice when you are done with your experiment."
   ]
  },
  {
   "cell_type": "code",
   "execution_count": null,
   "metadata": {},
   "outputs": [],
   "source": [
    "#raise Exception()"
   ]
  },
  {
   "cell_type": "code",
   "execution_count": null,
   "metadata": {},
   "outputs": [],
   "source": [
    "#try:\n",
    "#    #frr_experiment.fablib.delete_all()\n",
    "#    slice.delete()\n",
    "#except Exception as e:\n",
    "#    print(f\"Exception: {e}\")"
   ]
  }
 ],
 "metadata": {
  "kernelspec": {
   "display_name": "Python 3 (ipykernel)",
   "language": "python",
   "name": "python3"
  },
  "language_info": {
   "codemirror_mode": {
    "name": "ipython",
    "version": 3
   },
   "file_extension": ".py",
   "mimetype": "text/x-python",
   "name": "python",
   "nbconvert_exporter": "python",
   "pygments_lexer": "ipython3",
   "version": "3.9.7"
  }
 },
 "nbformat": 4,
 "nbformat_minor": 4
}
