{
 "cells": [
  {
   "cell_type": "markdown",
   "metadata": {},
   "source": [
    "# Routing Topology: OSPF using FRRouting with Chameleon\n",
    "\n",
    "This notebook is an example of how to create a FABRIC routing experiment topology comprising nodes at three different sites. Each site has a local layer 2 (Ethernet) network connecting a set of local nodes and one gateway router. The three gateway routers connect to each other and use the [FRRouting](https://frrouting.org/) protocol suite to deploy [OSPF](https://en.wikipedia.org/wiki/Open_Shortest_Path_First) dameons to propagate route updates across the topology.\n",
    "\n",
    "You might be familiar with the [Quagga](https://www.quagga.net/) router suite.  FRRouting is based on Quagga but has a more active upstream community including many large companies working on cloud networking.\n",
    "\n",
    "\n",
    "## Configure the Environment\n"
   ]
  },
  {
   "cell_type": "code",
   "execution_count": null,
   "metadata": {},
   "outputs": [],
   "source": [
    "import os\n",
    "import sys\n",
    "\n",
    "module_path = os.path.abspath(os.path.join(f\"{os.environ['HOME']}/work/PRUTH-FABRIC-Examples/fablib_local\"))\n",
    "if module_path not in sys.path:\n",
    "    sys.path.append(module_path)\n",
    "\n",
    "from chameleon_utils.chameleon_config import *\n",
    "\n",
    "load_chameleon_rc_environment(chameleon_rc_file=f\"{os.environ['HOME']}/work/fablib_local_private_config/Chameleon-openrc.sh\")\n",
    "\n",
    "from my_experiment.frrouting_experiment import FRRouting_Experiment\n"
   ]
  },
  {
   "cell_type": "markdown",
   "metadata": {},
   "source": [
    "## Create the Experiment\n"
   ]
  },
  {
   "cell_type": "code",
   "execution_count": null,
   "metadata": {},
   "outputs": [],
   "source": [
    "frr_experiment = FRRouting_Experiment('FRRouting_OSPF')"
   ]
  },
  {
   "cell_type": "code",
   "execution_count": null,
   "metadata": {
    "tags": []
   },
   "outputs": [],
   "source": [
    "#frr_experiment.load()\n",
    "#frr_experiment.display()"
   ]
  },
  {
   "cell_type": "markdown",
   "metadata": {
    "tags": []
   },
   "source": [
    "## (Optional): Query for Available Tesbed Resources and Settings"
   ]
  },
  {
   "cell_type": "code",
   "execution_count": null,
   "metadata": {},
   "outputs": [],
   "source": [
    "try:\n",
    "    frr_experiment.list_resources()\n",
    "\n",
    "except Exception as e:\n",
    "    print(f\"Exception: {e}\")"
   ]
  },
  {
   "cell_type": "markdown",
   "metadata": {},
   "source": [
    "## Define Experiment\n",
    "\n",
    "The following creates private layer 2 networks on three sites including a OSPF gateway routers that propogate routes acrross the topology. \n"
   ]
  },
  {
   "cell_type": "code",
   "execution_count": null,
   "metadata": {},
   "outputs": [],
   "source": [
    "frr_sites = { 'dall': { 'site': 'DALL', 'facility': 'FABRIC', 'node_count': 2 },\n",
    "              'salt': { 'site': 'SALT', 'facility': 'FABRIC', 'node_count': 2 },\n",
    "              'chameleon': { 'site': 'STAR', 'facility': 'CHI@UC', 'node_count': 2 },\n",
    "              'utah': { 'site': 'UTAH', 'facility': 'FABRIC', 'node_count': 2 }\n",
    "            }\n",
    "    \n",
    "frr_links = { 'Link12': ('dall','salt'),\n",
    "              'Link23': ('salt','chameleon'),\n",
    "              'Link31': ('chameleon','dall'),\n",
    "              'Link24': ('utah','salt')\n",
    "            }"
   ]
  },
  {
   "cell_type": "code",
   "execution_count": null,
   "metadata": {},
   "outputs": [],
   "source": [
    "frr_experiment.configure(frr_sites, frr_links)"
   ]
  },
  {
   "cell_type": "code",
   "execution_count": null,
   "metadata": {},
   "outputs": [],
   "source": [
    "frr_experiment.deploy()"
   ]
  },
  {
   "cell_type": "markdown",
   "metadata": {},
   "source": [
    "## Run the GUI and Interact with the Experiment"
   ]
  },
  {
   "cell_type": "code",
   "execution_count": null,
   "metadata": {},
   "outputs": [],
   "source": [
    "#frr_experiment.load()\n",
    "frr_experiment.display()"
   ]
  },
  {
   "cell_type": "markdown",
   "metadata": {},
   "source": [
    "## Step 9: Delete the Slice\n",
    "\n",
    "Please delete your slice when you are done with your experiment."
   ]
  },
  {
   "cell_type": "code",
   "execution_count": null,
   "metadata": {},
   "outputs": [],
   "source": [
    "try:\n",
    "    frr_experiment.fablib.delete_all()\n",
    "    #slice.delete()\n",
    "except Exception as e:\n",
    "    print(f\"Exception: {e}\")"
   ]
  },
  {
   "cell_type": "code",
   "execution_count": null,
   "metadata": {},
   "outputs": [],
   "source": []
  },
  {
   "cell_type": "code",
   "execution_count": null,
   "metadata": {},
   "outputs": [],
   "source": []
  },
  {
   "cell_type": "code",
   "execution_count": null,
   "metadata": {},
   "outputs": [],
   "source": []
  },
  {
   "cell_type": "code",
   "execution_count": null,
   "metadata": {
    "tags": []
   },
   "outputs": [],
   "source": [
    "frr_sites = { 'dall': { 'site': 'DALL', 'facility': 'FABRIC', 'node_count': 2 },\n",
    "              'utah': { 'site': 'UTAH', 'facility': 'FABRIC', 'node_count': 2 },\n",
    "\n",
    "              'salt': { 'site': 'SALT', 'facility': 'FABRIC', 'node_count': 2 },\n",
    "              'wash': { 'site': 'WASH', 'facility': 'FABRIC', 'node_count': 2 },\n",
    "              'tacc': { 'site': 'TACC', 'facility': 'FABRIC', 'node_count': 2 },\n",
    "              'max':  { 'site': 'MAX', 'facility': 'FABRIC', 'node_count': 2 },\n",
    "              'ncsa': { 'site': 'NCSA', 'facility': 'FABRIC', 'node_count': 2 },\n",
    "              'cham': { 'site': 'STAR', 'facility': 'CHI@UC', 'node_count': 2 },\n",
    "            }\n",
    "    \n",
    "frr_links = { 'Link_dall_tacc': ('dall','tacc'),\n",
    "              'Link_cham_ncsa': ('cham','ncsa'),\n",
    "              'Link_salt_utah': ('salt','utah'),\n",
    "              'Link_wash_max':  ('wash','max'),\n",
    "              'Link_utah_dall': ('utah','dall'),\n",
    "              'Link_dall_wash': ('dall','wash'),\n",
    "              'Link_wash_cham': ('wash','cham'),\n",
    "              'Link_cham_utah': ('cham','utah'),\n",
    "              'Link_cham_dall': ('cham','dall'), \n",
    "            }"
   ]
  },
  {
   "cell_type": "code",
   "execution_count": null,
   "metadata": {},
   "outputs": [],
   "source": [
    "frr_experiment.wait_jupyter(timeout=20000)"
   ]
  },
  {
   "cell_type": "code",
   "execution_count": null,
   "metadata": {},
   "outputs": [],
   "source": [
    "frr_experiment.execute_on_all_edge_nodes(f'rm -rf fabric_node_tools')\n",
    "print('deploy3')\n",
    "frr_experiment.upload_directory_to_all_edge_nodes('fabric_node_tools','.')\n",
    "print('deploy4')\n",
    "frr_experiment.execute_on_all_edge_nodes(f'chmod +x fabric_node_tools/*.sh')\n",
    "print('deploy5')\n",
    "frr_experiment.configure_devs()\n",
    "print('deploy6')\n",
    "frr_experiment.configure_routers()\n",
    "print('deploy7')\n",
    "command = f'sudo yum install -y -q iperf3 iproute-tc && sudo ./fabric_node_tools/host_tune_redhat.sh'\n",
    "frr_experiment.execute_on_all_edge_nodes(f'{command}')\n",
    "print('deploy8')"
   ]
  },
  {
   "cell_type": "code",
   "execution_count": null,
   "metadata": {},
   "outputs": [],
   "source": []
  }
 ],
 "metadata": {
  "kernelspec": {
   "display_name": "Python 3 (ipykernel)",
   "language": "python",
   "name": "python3"
  },
  "language_info": {
   "codemirror_mode": {
    "name": "ipython",
    "version": 3
   },
   "file_extension": ".py",
   "mimetype": "text/x-python",
   "name": "python",
   "nbconvert_exporter": "python",
   "pygments_lexer": "ipython3",
   "version": "3.9.7"
  }
 },
 "nbformat": 4,
 "nbformat_minor": 4
}
