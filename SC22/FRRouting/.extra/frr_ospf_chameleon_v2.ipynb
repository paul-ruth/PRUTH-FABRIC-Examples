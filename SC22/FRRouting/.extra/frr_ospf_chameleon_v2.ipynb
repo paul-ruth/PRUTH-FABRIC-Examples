{
 "cells": [
  {
   "cell_type": "markdown",
   "metadata": {},
   "source": [
    "# Routing Topology: OSPF using FRRouting with Chameleon\n",
    "\n",
    "This notebook is an example of how to create a FABRIC routing experiment topology comprising nodes at three different sites. Each site has a local layer 2 (Ethernet) network connecting a set of local nodes and one gateway router. The three gateway routers connect to each other and use the [FRRouting](https://frrouting.org/) protocol suite to deploy [OSPF](https://en.wikipedia.org/wiki/Open_Shortest_Path_First) dameons to propagate route updates across the topology.\n",
    "\n",
    "You might be familiar with the [Quagga](https://www.quagga.net/) router suite.  FRRouting is based on Quagga but has a more active upstream community including many large companies working on cloud networking.\n",
    "\n",
    "\n",
    "## Step 1:  Configure the Environment\n"
   ]
  },
  {
   "cell_type": "code",
   "execution_count": null,
   "metadata": {},
   "outputs": [],
   "source": [
    "import os\n",
    "import sys\n",
    "\n",
    "module_path = os.path.abspath(os.path.join(f\"{os.environ['HOME']}/work/PRUTH-FABRIC-Examples/fablib_local\"))\n",
    "if module_path not in sys.path:\n",
    "    sys.path.append(module_path)\n",
    "from fablib_custom.fablib_custom import *\n",
    "\n",
    "from chameleon_utils.chameleon_config import *\n",
    "load_chameleon_rc_environment(chameleon_rc_file=f\"{os.environ['HOME']}/work/fablib_local_private_config/Chameleon-openrc.sh\")\n",
    "\n",
    "\n",
    "from chameleon_utils.chameleon_stitching import *\n",
    "from chameleon_utils.chameleon_servers import *\n",
    "\n",
    "from fablib_common_utils.utils import *\n",
    "\n",
    "from performance_testing.iperf3 import *\n",
    "\n",
    "from my_experiment.frrouting_experiment import FRRouting_Experiment"
   ]
  },
  {
   "cell_type": "markdown",
   "metadata": {},
   "source": [
    "## Step 2: Import the FABLlib Library\n"
   ]
  },
  {
   "cell_type": "code",
   "execution_count": null,
   "metadata": {},
   "outputs": [],
   "source": [
    "frr_experiment = FRRouting_Experiment('FRRouting_OSPF')"
   ]
  },
  {
   "cell_type": "code",
   "execution_count": null,
   "metadata": {
    "tags": []
   },
   "outputs": [],
   "source": [
    "#frr_experiment.load()\n",
    "#frr_experiment.display()"
   ]
  },
  {
   "cell_type": "markdown",
   "metadata": {
    "tags": []
   },
   "source": [
    "## Step 3 (Optional): Query for Available Tesbed Resources and Settings\n",
    "\n",
    "This optional command queries the FABRIC services to find the available resources. It may be useful for finding a site with available capacity."
   ]
  },
  {
   "cell_type": "code",
   "execution_count": null,
   "metadata": {},
   "outputs": [],
   "source": [
    "try:\n",
    "    frr_experiment.list_resources()\n",
    "\n",
    "except Exception as e:\n",
    "    print(f\"Exception: {e}\")"
   ]
  },
  {
   "cell_type": "markdown",
   "metadata": {},
   "source": [
    "## Step 4: Create the Experiment Slice\n",
    "\n",
    "The following creates private layer 2 networks on three sites including a OSPF gateway routers that propogate routes acrross the topology. \n"
   ]
  },
  {
   "cell_type": "code",
   "execution_count": null,
   "metadata": {},
   "outputs": [],
   "source": [
    "\n",
    "#time_stamp = datetime.now(tz=tz.tzutc()).strftime('%Y%m%d%H%M')\n",
    "#ext=f'_pruth_{time_stamp}'\n",
    "\n",
    "frr_sites = { 'dall': { 'site': 'DALL', 'facility': 'FABRIC', 'node_count': 2 },\n",
    "              'salt': { 'site': 'SALT', 'facility': 'FABRIC', 'node_count': 2 },\n",
    "              'chameleon': { 'site': 'STAR', 'facility': 'CHI@UC', 'node_count': 2 },\n",
    "              'utah': { 'site': 'UTAH', 'facility': 'FABRIC', 'node_count': 2 }\n",
    "            }\n",
    "    \n",
    "frr_links = { 'Link12': ('dall','salt'),\n",
    "              'Link23': ('salt','chameleon'),\n",
    "              'Link31': ('chameleon','dall'),\n",
    "              'Link24': ('salt','utah')\n",
    "            }\n",
    "    \n"
   ]
  },
  {
   "cell_type": "code",
   "execution_count": null,
   "metadata": {},
   "outputs": [],
   "source": [
    "frr_experiment.configure(frr_sites, frr_links)"
   ]
  },
  {
   "cell_type": "code",
   "execution_count": null,
   "metadata": {},
   "outputs": [],
   "source": [
    "frr_experiment.deploy()"
   ]
  },
  {
   "cell_type": "code",
   "execution_count": null,
   "metadata": {},
   "outputs": [],
   "source": [
    "#frr_experiment.load()\n",
    "frr_experiment.display()"
   ]
  },
  {
   "cell_type": "code",
   "execution_count": null,
   "metadata": {},
   "outputs": [],
   "source": []
  },
  {
   "cell_type": "code",
   "execution_count": null,
   "metadata": {},
   "outputs": [],
   "source": []
  },
  {
   "cell_type": "code",
   "execution_count": null,
   "metadata": {},
   "outputs": [],
   "source": []
  },
  {
   "cell_type": "code",
   "execution_count": null,
   "metadata": {},
   "outputs": [],
   "source": []
  },
  {
   "cell_type": "code",
   "execution_count": null,
   "metadata": {},
   "outputs": [],
   "source": [
    "import traceback\n",
    "try:\n",
    "    # Add routers\n",
    "    routers = {}\n",
    "    for name, data in frr_sites.items():\n",
    "        routers[name] = frr_experiment.add_router(name=f'{name}_Router', site=data['site'], cores=32, ram=128, disk=10)\n",
    "   \n",
    "    # Add links between routers\n",
    "    links = {}\n",
    "    for name, data in frr_links.items():\n",
    "        router_a_name, router_b_name = data\n",
    "        router_a = routers[router_a_name]\n",
    "        router_b = routers[router_b_name]\n",
    "        \n",
    "        routers[name] = frr_experiment.add_router_link(name=name, router1=router_a, router2=router_b, nic_model='NIC_Basic')\n",
    "    \n",
    "    # Add local networks and nodes\n",
    "    for name, data in frr_sites.items():\n",
    "        if data['facility'] == 'FABRIC':\n",
    "            frr_experiment.add_local_network(name=f'{name}_local_net', router=routers[name], node_count=data['node_count'], cores=4, ram=16, disk=10)\n",
    "        elif data['facility'] == 'CHI@UC':\n",
    "            frr_experiment.add_chameleon_local_network(name=f'{name}_local_net', router=routers[name], node_count=data['node_count'], verbose=True)\n",
    "        else:\n",
    "            print(f\"Unknown facility\")\n",
    "            \n",
    "except Exception as e:\n",
    "    print(f\"Slice Fail: {e}\")\n",
    "    traceback.print_exc()\n"
   ]
  },
  {
   "cell_type": "code",
   "execution_count": null,
   "metadata": {},
   "outputs": [],
   "source": [
    "frr_experiment.display()"
   ]
  },
  {
   "cell_type": "code",
   "execution_count": null,
   "metadata": {},
   "outputs": [],
   "source": [
    "try:\n",
    "    frr_experiment.submit()\n",
    "    \n",
    "except Exception as e:\n",
    "    print(f\"Slice Fail: {e}\")\n",
    "    traceback.print_exc()"
   ]
  },
  {
   "cell_type": "code",
   "execution_count": null,
   "metadata": {},
   "outputs": [],
   "source": [
    "try:\n",
    "    #frr_slice = FRRouting_Slice(slice_name)\n",
    "    \n",
    "    frr_experiment.load()\n",
    "except Exception as e:\n",
    "    print(f\"Exception: {e}\")\n",
    "    raise e"
   ]
  },
  {
   "cell_type": "code",
   "execution_count": null,
   "metadata": {},
   "outputs": [],
   "source": [
    "try:\n",
    "    frr_experiment.wait_jupyter()\n",
    "except Exception as e:\n",
    "    print(f\"Exception: {e}\")"
   ]
  },
  {
   "cell_type": "code",
   "execution_count": null,
   "metadata": {},
   "outputs": [],
   "source": [
    "\n",
    "#frr_experiment.load()\n",
    "#print(f\"{frr_experiment.nodes}\")\n",
    "#print(json.dumps(frr_experiment.nodes, indent=4))\n",
    "frr_experiment.execute_on_all_edge_nodes(f'rm -rf fabric_node_tools')\n",
    "frr_experiment.upload_directory_to_all_edge_nodes('fabric_node_tools','.')\n",
    "frr_experiment.execute_on_all_edge_nodes(f'chmod +x fabric_node_tools/*.sh')\n"
   ]
  },
  {
   "cell_type": "code",
   "execution_count": null,
   "metadata": {},
   "outputs": [],
   "source": [
    "try:\n",
    "    frr_experiment.slice.save('ospf_slice.graphml')\n",
    "except Exception as e:\n",
    "    print(f\"Exception: {e}\")\n",
    "    traceback.print_exc()"
   ]
  },
  {
   "cell_type": "code",
   "execution_count": null,
   "metadata": {},
   "outputs": [],
   "source": [
    "\n",
    "print(json.dumps(frr_experiment.local_networks, indent=4))\n"
   ]
  },
  {
   "cell_type": "code",
   "execution_count": null,
   "metadata": {},
   "outputs": [],
   "source": [
    "import traceback\n",
    "try:\n",
    "    frr_experiment.configure_devs()\n",
    "except Exception as e:\n",
    "    print(f\"Exception: {e}\")\n",
    "    traceback.print_exc()"
   ]
  },
  {
   "cell_type": "code",
   "execution_count": null,
   "metadata": {},
   "outputs": [],
   "source": [
    "import traceback\n",
    "try:\n",
    "    for node in frr_experiment.slice.get_nodes():\n",
    "        print(f'{node.get_name()}: {node.get_management_ip()}')\n",
    "        \n",
    "        #node.execute('ip addr list', quiet=False)\n",
    "except Exception as e:\n",
    "    print(f\"Exception: {e}\")\n",
    "    traceback.print_exc()"
   ]
  },
  {
   "cell_type": "code",
   "execution_count": null,
   "metadata": {},
   "outputs": [],
   "source": [
    "import traceback\n",
    "try:\n",
    "    for node in frr_experiment.get_edge_nodes():\n",
    "        print(f\"node: {node.get_name()}\")\n",
    "        \n",
    "    for router in frr_experiment.get_routers():\n",
    "        print(f\"router: {router.get_name()}\")\n",
    "        \n",
    "    for local_networks in frr_experiment.get_local_networks():\n",
    "        print(f\"local_networks: {local_networks}\")\n",
    "\n",
    "    for router_links in frr_experiment.get_router_links():\n",
    "        print(f\"router_links: {router_links}\")\n",
    " \n",
    "    for local_network_name in frr_experiment.get_local_network_names():\n",
    "        print(f\"local_networks: {local_network_name}\")\n",
    "\n",
    "    for router_link_name in frr_experiment.get_router_link_names():\n",
    "        print(f\"router_links: {router_link_name}\")\n",
    " \n",
    "    \n",
    "    frr_experiment.configure_routers()\n",
    "except Exception as e:\n",
    "    print(f\"Exception: {e}\")\n",
    "    traceback.print_exc()"
   ]
  },
  {
   "cell_type": "code",
   "execution_count": null,
   "metadata": {},
   "outputs": [],
   "source": [
    "#frr_experiment.upload_directory_to_all_edge_nodes('fabric_node_tools','.')\n",
    "command = f'sudo yum install -y -q iperf3 iproute-tc && sudo ./fabric_node_tools/host_tune_redhat.sh'\n",
    "\n",
    "\n",
    "frr_experiment.execute_on_all_edge_nodes(f'{command}')"
   ]
  },
  {
   "cell_type": "markdown",
   "metadata": {},
   "source": [
    "## Step 8: Run the Experiment\n",
    "\n",
    "We will just test `ping` RTT and look at `tracepath`. Your experiment should be more interesting!\n",
    "\n",
    "Notice that if you run this quickly and repeatedly run this test against a specific target, you may see changes to the tracepath.  Initially the ping may even fail.  Why do you think this is happening?\n"
   ]
  },
  {
   "cell_type": "code",
   "execution_count": null,
   "metadata": {},
   "outputs": [],
   "source": [
    "try:\n",
    "    print(frr_experiment.nodes)\n",
    "    target_node_name =  frr_experiment.nodes[0]['name'] # f'{site1}_local_net1'\n",
    "    target_node = frr_experiment.slice.get_node(name=target_node_name)\n",
    "    target_ip = frr_experiment.nodes[0]['data_plane_ip']\n",
    "    \n",
    "    threads = {}\n",
    "    for node in frr_experiment.slice.get_nodes():\n",
    "        print(f\"Testing target node: {node.get_name()}, target IP: {target_ip}\")\n",
    "\n",
    "        threads[node] = node.execute_thread(f'ping -c 5 {target_ip}')\n",
    "        \n",
    "    for node,thread in threads.items():\n",
    "        print(f\"Result for {node.get_name()}, target IP: {target_ip}\")\n",
    "        stdout, stderr = thread.result()\n",
    "        print (stdout, stderr)\n",
    "\n",
    "        #stdout, stderr = node.execute(f'tracepath {target_ip}')\n",
    "        #print (stdout, stderr)\n",
    "\n",
    "except Exception as e:\n",
    "    print(f\"Exception: {e}\")"
   ]
  },
  {
   "cell_type": "code",
   "execution_count": null,
   "metadata": {},
   "outputs": [],
   "source": [
    "for source_node in frr_experiment.nodes:\n",
    "    for target_node in frr_experiment.nodes:\n",
    "        \n",
    "        if source_node['name'] == target_node['name']:\n",
    "            continue\n",
    "            \n",
    "        frr_experiment.iperf3_run(source_node=source_node, \n",
    "                                  target_node=target_node, \n",
    "                                  w='32m', P=16, t=20, i=10, O=10, verbose=False)\n",
    "    \n",
    "    "
   ]
  },
  {
   "cell_type": "code",
   "execution_count": null,
   "metadata": {},
   "outputs": [],
   "source": [
    "frr_experiment.iperf3_run(source_node=frr_experiment.get_node('Site1_local_net1'), \n",
    "                                  target_node=frr_experiment.get_node('Site2_local_net1'), \n",
    "                                  w='32m', P=16, t=20, i=10, O=10, verbose=True)"
   ]
  },
  {
   "cell_type": "code",
   "execution_count": null,
   "metadata": {},
   "outputs": [],
   "source": [
    "import traceback\n",
    "\n",
    "try:\n",
    "    iperf3_process_output(verbose=True)\n",
    "\n",
    "except Exception as e:\n",
    "    print(f\"Exception: {e}\")\n",
    "    traceback.print_exc()"
   ]
  },
  {
   "cell_type": "code",
   "execution_count": null,
   "metadata": {},
   "outputs": [],
   "source": [
    "frr_experiment.load()\n",
    "\n",
    "#frr_experiment.display_init()\n",
    "frr_experiment.display()"
   ]
  },
  {
   "cell_type": "markdown",
   "metadata": {},
   "source": [
    "## Step 9: Delete the Slice\n",
    "\n",
    "Please delete your slice when you are done with your experiment."
   ]
  },
  {
   "cell_type": "markdown",
   "metadata": {},
   "source": [
    "## Step 9: Delete the Slice\n",
    "\n",
    "Please delete your slice when you are done with your experiment."
   ]
  },
  {
   "cell_type": "code",
   "execution_count": null,
   "metadata": {},
   "outputs": [],
   "source": [
    "try:\n",
    "    frr_experiment.fablib.delete_all()\n",
    "    #slice.delete()\n",
    "except Exception as e:\n",
    "    print(f\"Exception: {e}\")"
   ]
  },
  {
   "cell_type": "code",
   "execution_count": null,
   "metadata": {},
   "outputs": [],
   "source": []
  }
 ],
 "metadata": {
  "kernelspec": {
   "display_name": "Python 3 (ipykernel)",
   "language": "python",
   "name": "python3"
  },
  "language_info": {
   "codemirror_mode": {
    "name": "ipython",
    "version": 3
   },
   "file_extension": ".py",
   "mimetype": "text/x-python",
   "name": "python",
   "nbconvert_exporter": "python",
   "pygments_lexer": "ipython3",
   "version": "3.9.7"
  }
 },
 "nbformat": 4,
 "nbformat_minor": 4
}
